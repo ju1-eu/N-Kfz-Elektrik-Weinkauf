{
 "cells": [
  {
   "cell_type": "markdown",
   "metadata": {},
   "source": [
    "**Rechenbeispiel**"
   ]
  },
  {
   "cell_type": "code",
   "execution_count": null,
   "metadata": {},
   "outputs": [],
   "source": [
    "import math as ma\n",
    "import numpy as np\n",
    "# round(Zahl, Stellen))# 4 Stellen nach Komma runden\n",
    "# print(\"l = \", round(l, 4), \"m\")\n",
    "# Potenz: 2**3 = 2^3\n",
    "# Wissenschaftliche Schreibweise\n",
    "# Exponentialschreibweise: \\num{2,67e-03} => 2.67 x 10^-3\n",
    "# Pfeil: \\curvearrowright  oder \\to\n",
    "# Mathemodus: https://katex.org/docs/supported.html\n",
    "#zahl_1 = float(0.0003648) # Ohm = 0.3648 mOhm = 0.0003648 Ohm = 3.648e-04 Ohm \n",
    "#print(np.format_float_scientific(zahl_1, precision = 4, exp_digits=2))\n",
    "#zahl_2 = float(2.6667e-03) # Ohm = 2.666666 mOhm = 0.002666666 Ohm = 2.6667e-03 Ohm\n",
    "#print(np.format_float_scientific(zahl_2, precision = 4, exp_digits=2))\n",
    "# Schleife: von 1 bis 10 \n",
    "#for i in range (1,11,1):\n",
    "#    print(i*i)\n",
    "# Terminal: jupyter notebook"
   ]
  },
  {
   "cell_type": "code",
   "execution_count": 5,
   "metadata": {},
   "outputs": [
    {
     "name": "stdout",
     "output_type": "stream",
     "text": [
      "R_I = 446 Ohm\n",
      "R_II = 147.3273 Ohm\n",
      "R_ges = 327.3273 Ohm\n",
      "I_ges = 0.0422 A\n",
      "U_R_3 = 7.5887 V\n",
      "U_R_II = 6.2113 V\n",
      "I_R_I = 0.0139 A\n",
      "I_R_4 = 0.0282 A\n",
      "U_R_1 = 0.7799 V\n",
      "U_R_2 = 5.4314 V\n"
     ]
    }
   ],
   "source": [
    "# Aufgabe 1\n",
    "# geg:\n",
    "R_1 = 56 # Ohm\n",
    "R_2 = 390 # Ohm\n",
    "R_3 = 180 # Ohm\n",
    "R_4 = 220 # Ohm\n",
    "U_ges = 13.8 # V\n",
    "# ges: U_Teil, R_Teil, I_Teil, I_ges, R_ges\n",
    "# Formel:\n",
    "R_I = R_1 + R_2\n",
    "R_II = 1/(1/R_I + 1/R_4)\n",
    "R_ges = R_II + R_3\n",
    "I_ges = U_ges/R_ges\n",
    "U_R_3 = R_3 * I_ges\n",
    "U_R_II = R_II * I_ges\n",
    "I_R_I = U_R_II/R_I\n",
    "I_R_4 = U_R_II/R_4\n",
    "U_R_1 = R_1 * I_R_I\n",
    "U_R_2 = R_2 * I_R_I\n",
    "# I_R_12 = I_R_I\n",
    "# Ausgabe: print(\"U =\", round(U, 4), \"V\")\n",
    "print(\"R_I =\", round(R_I, 4), \"Ohm\")\n",
    "print(\"R_II =\", round(R_II, 4), \"Ohm\")\n",
    "print(\"R_ges =\", round(R_ges, 4), \"Ohm\")\n",
    "print(\"I_ges =\", round(I_ges, 4), \"A\")\n",
    "print(\"U_R_3 =\", round(U_R_3, 4), \"V\")\n",
    "print(\"U_R_II =\", round(U_R_II, 4), \"V\")\n",
    "print(\"I_R_I =\", round(I_R_I, 4), \"A\")\n",
    "print(\"I_R_4 =\", round(I_R_4, 4), \"A\")\n",
    "print(\"U_R_1 =\", round(U_R_1, 4), \"V\")\n",
    "print(\"U_R_2 =\", round(U_R_2, 4), \"V\")\n",
    "# Lösung:\n",
    "# "
   ]
  },
  {
   "cell_type": "code",
   "execution_count": null,
   "metadata": {},
   "outputs": [],
   "source": []
  }
 ],
 "metadata": {
  "interpreter": {
   "hash": "d88b4992e5b06b322ead3277a6c0c22aea73de159b15016e3d5eb1aecc84f355"
  },
  "kernelspec": {
   "display_name": "Python 3",
   "language": "python",
   "name": "python3"
  },
  "language_info": {
   "codemirror_mode": {
    "name": "ipython",
    "version": 3
   },
   "file_extension": ".py",
   "mimetype": "text/x-python",
   "name": "python",
   "nbconvert_exporter": "python",
   "pygments_lexer": "ipython3",
   "version": "3.8.8"
  }
 },
 "nbformat": 4,
 "nbformat_minor": 2
}
