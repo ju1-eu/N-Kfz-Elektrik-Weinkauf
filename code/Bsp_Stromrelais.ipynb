{
 "cells": [
  {
   "cell_type": "markdown",
   "metadata": {},
   "source": [
    "# Rechenbeispiel - Stromrelais"
   ]
  },
  {
   "cell_type": "code",
   "execution_count": 1,
   "metadata": {},
   "outputs": [],
   "source": [
    "import math as ma\n",
    "import numpy as np\n",
    "# round(Zahl, Stellen))# 4 Stellen nach Komma runden\n",
    "# print(\"l = \", round(l, 4), \"m\")\n",
    "# Potenz: 2**3 = 2^3\n",
    "# Wissenschaftliche Schreibweise\n",
    "#zahl_1 = float(0.0003648) # Ohm = 0.3648 mOhm = 0.0003648 Ohm = 3.648e-04 Ohm\n",
    "#print(np.format_float_scientific(zahl_1, precision = 4, exp_digits=2))\n",
    "#zahl_2 = float(2.6667e-03) # Ohm = 2.666666 mOhm = 0.002666666 Ohm = 2.6667e-03 Ohm\n",
    "#print(np.format_float_scientific(zahl_2, precision = 4, exp_digits=2))\n",
    "# Schleife: von 1 bis 10 \n",
    "#for i in range (1,11,1):\n",
    "#    print(i*i)\n",
    "# Terminal: jupyter notebook"
   ]
  },
  {
   "cell_type": "code",
   "execution_count": 4,
   "metadata": {},
   "outputs": [
    {
     "name": "stdout",
     "output_type": "stream",
     "text": [
      "R_ges =  7.05 Ohm\n",
      "I =  2.0142 A\n",
      "U_KSp =  0.4028 V\n",
      "U_KLa =  13.7972 V\n",
      "P =  27.79 W\n"
     ]
    }
   ],
   "source": [
    "# Rechenbeispiel\n",
    "# geg:\n",
    "R_Sp = 0.2 # Ohm\n",
    "R_La = 6.85 # Ohm\n",
    "U_ges = 14.2 # V\n",
    "# ges: U_KSp, U_KLa, P\n",
    "# Formel\n",
    "R_ges = R_Sp + R_La\n",
    "I = U_ges/R_ges\n",
    "U_KSp = R_Sp * I\n",
    "U_KLa = R_La * I\n",
    "P = U_KLa * I\n",
    "# Lösung: print(\"U = \", round(U, 4), \"V\")\n",
    "print(\"R_ges = \", round(R_ges, 4), \"Ohm\")\n",
    "print(\"I = \", round(I, 4), \"A\")\n",
    "print(\"U_KSp = \", round(U_KSp, 4), \"V\")\n",
    "print(\"U_KLa = \", round(U_KLa, 4), \"V\")\n",
    "print(\"P = \", round(P, 4), \"W\")\n",
    "# R_ges =  7.05 Ohm\n",
    "# I =  2.0142 A\n",
    "# U_KSp =  0.4028 V\n",
    "# U_KLa =  13.7972 V\n",
    "# P =  27.79 W"
   ]
  },
  {
   "cell_type": "code",
   "execution_count": null,
   "metadata": {},
   "outputs": [],
   "source": []
  }
 ],
 "metadata": {
  "interpreter": {
   "hash": "d88b4992e5b06b322ead3277a6c0c22aea73de159b15016e3d5eb1aecc84f355"
  },
  "kernelspec": {
   "display_name": "Python 3",
   "language": "python",
   "name": "python3"
  },
  "language_info": {
   "codemirror_mode": {
    "name": "ipython",
    "version": 3
   },
   "file_extension": ".py",
   "mimetype": "text/x-python",
   "name": "python",
   "nbconvert_exporter": "python",
   "pygments_lexer": "ipython3",
   "version": "3.8.8"
  }
 },
 "nbformat": 4,
 "nbformat_minor": 2
}
