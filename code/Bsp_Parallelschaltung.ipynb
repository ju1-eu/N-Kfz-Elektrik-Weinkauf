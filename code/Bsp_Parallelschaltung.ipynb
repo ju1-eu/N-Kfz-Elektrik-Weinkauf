{
 "cells": [
  {
   "cell_type": "markdown",
   "metadata": {},
   "source": [
    "# Rechenbeispiel - Parallelschaltung"
   ]
  },
  {
   "cell_type": "code",
   "execution_count": 1,
   "metadata": {},
   "outputs": [],
   "source": [
    "import math as ma\n",
    "import numpy as np\n",
    "# round(Zahl, Stellen))# 4 Stellen nach Komma runden\n",
    "# print(\"l = \", round(l, 4), \"m\")\n",
    "# Potenz: 2**3 = 2^3\n",
    "# Wissenschaftliche Schreibweise\n",
    "#zahl_1 = float(0.0003648) # Ohm = 0.3648 mOhm = 0.0003648 Ohm = 3.648e-04 Ohm\n",
    "#print(np.format_float_scientific(zahl_1, precision = 4, exp_digits=2))\n",
    "#zahl_2 = float(2.6667e-03) # Ohm = 2.666666 mOhm = 0.002666666 Ohm = 2.6667e-03 Ohm\n",
    "#print(np.format_float_scientific(zahl_2, precision = 4, exp_digits=2))\n",
    "# Schleife: von 1 bis 10 \n",
    "#for i in range (1,11,1):\n",
    "#    print(i*i)\n",
    "# Terminal: jupyter notebook"
   ]
  },
  {
   "cell_type": "code",
   "execution_count": 2,
   "metadata": {},
   "outputs": [
    {
     "name": "stdout",
     "output_type": "stream",
     "text": [
      "I_1 = 0.0287 A\n",
      "I_2 = 0.1646 A\n",
      "I_3 = 0.0241 A\n",
      "I_ges = 0.2175 A\n",
      "R_ges = 62.079 Ohm\n"
     ]
    }
   ],
   "source": [
    "# Aufgabe 1\n",
    "# geg: ||\n",
    "U = 13.5 # V Hinweis: U_ges = U\n",
    "R_1 = 470 # Ohm\n",
    "R_2 = 82 # Ohm\n",
    "R_3 = 560 # Ohm\n",
    "# ges: I_ges, I_1, I_2, I_3, R_ges\n",
    "# Formel:\n",
    "I_1 = U / R_1\n",
    "I_2 = U / R_2\n",
    "I_3 = U / R_3\n",
    "I_ges = I_1 + I_2 + I_3\n",
    "R_ges = U / I_ges\n",
    "# Ausgabe: print(\"U =\", round(U, 4), \"V\")\n",
    "print(\"I_1 =\", round(I_1, 4), \"A\")\n",
    "print(\"I_2 =\", round(I_2, 4), \"A\")\n",
    "print(\"I_3 =\", round(I_3, 4), \"A\")\n",
    "print(\"I_ges =\", round(I_ges, 4), \"A\")\n",
    "print(\"R_ges =\", round(R_ges, 4), \"Ohm\")\n",
    "# Lösung:\n",
    "# "
   ]
  },
  {
   "cell_type": "code",
   "execution_count": null,
   "metadata": {},
   "outputs": [],
   "source": []
  }
 ],
 "metadata": {
  "interpreter": {
   "hash": "d88b4992e5b06b322ead3277a6c0c22aea73de159b15016e3d5eb1aecc84f355"
  },
  "kernelspec": {
   "display_name": "Python 3",
   "language": "python",
   "name": "python3"
  },
  "language_info": {
   "codemirror_mode": {
    "name": "ipython",
    "version": 3
   },
   "file_extension": ".py",
   "mimetype": "text/x-python",
   "name": "python",
   "nbconvert_exporter": "python",
   "pygments_lexer": "ipython3",
   "version": "3.8.8"
  }
 },
 "nbformat": 4,
 "nbformat_minor": 2
}
