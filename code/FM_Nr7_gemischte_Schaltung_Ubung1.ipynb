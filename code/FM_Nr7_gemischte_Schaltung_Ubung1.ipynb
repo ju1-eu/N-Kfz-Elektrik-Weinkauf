{
 "cells": [
  {
   "cell_type": "markdown",
   "metadata": {},
   "source": [
    "# FM Nr. 7 Übungsaufgaben\n",
    "\n",
    "## gemischte Schaltung"
   ]
  },
  {
   "cell_type": "code",
   "execution_count": null,
   "metadata": {},
   "outputs": [],
   "source": [
    "import math as ma\n",
    "import numpy as np\n",
    "# round(Zahl, Stellen))# 4 Stellen nach Komma runden\n",
    "# print(\"l = \", round(l, 4), \"m\")\n",
    "# Potenz: 2**3 = 2^3\n",
    "# Wissenschaftliche Schreibweise\n",
    "# Exponentialschreibweise: \\num{2,67e-03} => 2.67 x 10^-3\n",
    "# Pfeil: \\curvearrowright  oder \\to\n",
    "# Mathemodus: https://katex.org/docs/supported.html\n",
    "#zahl_1 = float(0.0003648) # Ohm = 0.3648 mOhm = 0.0003648 Ohm = 3.648e-04 Ohm \n",
    "#print(np.format_float_scientific(zahl_1, precision = 4, exp_digits=2))\n",
    "#zahl_2 = float(2.6667e-03) # Ohm = 2.666666 mOhm = 0.002666666 Ohm = 2.6667e-03 Ohm\n",
    "#print(np.format_float_scientific(zahl_2, precision = 4, exp_digits=2))\n",
    "# Schleife: von 1 bis 10 \n",
    "#for i in range (1,11,1):\n",
    "#    print(i*i)\n",
    "# Terminal: jupyter notebook"
   ]
  },
  {
   "cell_type": "code",
   "execution_count": 2,
   "metadata": {},
   "outputs": [
    {
     "name": "stdout",
     "output_type": "stream",
     "text": [
      "R_I = 7.5 Ohm\n",
      "R_ges = 10.0 Ohm\n",
      "I_ges = 1.2 A\n",
      "U_1 = 9.0 V\n",
      "U_3 = 3.0 V\n",
      "I_R_1 = 0.9 A\n",
      "I_R_2 = 0.3 A\n"
     ]
    }
   ],
   "source": [
    "# Aufgabe 1\n",
    "# geg: Mathebuch S. 82 Aufgabe 6 Schaltung\n",
    "R_1 = 10 # Ohm\n",
    "R_2 = 30 # Ohm\n",
    "R_3 = 2.5 # Ohm\n",
    "U_ges = 12 # V\n",
    "# ges: R_I, R_ges, I_ges, U_1, U_3, I_R_1, I_R_2\n",
    "# Formel:\n",
    "R_I = 1/(1/R_1 + 1/R_2)\n",
    "R_ges = R_I + R_3\n",
    "I_ges = U_ges/R_ges\n",
    "U_1 = R_I * I_ges\n",
    "U_3 = R_3 * I_ges\n",
    "I_R_1 = U_1/R_1\n",
    "I_R_2 = U_1/R_2\n",
    "# Ausgabe: print(\"U =\", round(U, 4), \"V\")\n",
    "print(\"R_I =\", round(R_I, 4), \"Ohm\")\n",
    "print(\"R_ges =\", round(R_ges, 4), \"Ohm\")\n",
    "print(\"I_ges =\", round(I_ges, 4), \"A\")\n",
    "print(\"U_1 =\", round(U_1, 4), \"V\")\n",
    "print(\"U_3 =\", round(U_3, 4), \"V\")\n",
    "print(\"I_R_1 =\", round(I_R_1, 4), \"A\")\n",
    "print(\"I_R_2 =\", round(I_R_2, 4), \"A\")\n",
    "# Lösung:\n",
    "# "
   ]
  },
  {
   "cell_type": "code",
   "execution_count": 8,
   "metadata": {},
   "outputs": [
    {
     "name": "stdout",
     "output_type": "stream",
     "text": [
      "R_l_1 = 0.0267 Ohm\n",
      "R_l_2 = 0.0356 Ohm\n",
      "R_l_3 = 0.0214 Ohm\n",
      "R_u = 4.0214 Ohm\n",
      "R_l_1 = 0.0267 Ohm\n",
      "R_II = 2.0107 Ohm\n",
      "R_ges = 2.073 Ohm\n",
      "I_ges = 5.7888 A\n",
      "U_v_R_l_3 = 0.0618 V\n"
     ]
    }
   ],
   "source": [
    "# Aufgabe 2\n",
    "# geg: Schaltung\n",
    "U_ges = 12 # V\n",
    "l_1 = 6 # m\n",
    "A_1 = 4 # mm^2\n",
    "l_2 = 3 # m\n",
    "A_2 = 1.5 # mm^2\n",
    "l_3 = 1.8 # m\n",
    "A_3 = 1.5 # mm^2\n",
    "R_4 = 4 # Ohm\n",
    "p = 0.0178 # Kupfer ohm x mm^2 / m \n",
    "# ges: U_v_Leitung\n",
    "# Formel:\n",
    "R_l_1 = p * l_1 / A_1\n",
    "R_l_2 = p * l_2 / A_2\n",
    "R_l_3 = p * l_3 / A_3\n",
    "R_u = R_l_3 + R_4 # R_o = R_u\n",
    "R_II = R_u/2\n",
    "R_ges = R_l_1 + R_l_2 + R_II\n",
    "I_ges = U_ges/R_ges\n",
    "# U_v_R_l_3 = R_l_3 * I_R_l_3\n",
    "U_v_R_l_3 = (R_l_3 * I_ges)/2\n",
    "# Ausgabe: print(\"U =\", round(U, 4), \"V\")\n",
    "print(\"R_l_1 =\", round(R_l_1, 4), \"Ohm\")\n",
    "print(\"R_l_2 =\", round(R_l_2, 4), \"Ohm\")\n",
    "print(\"R_l_3 =\", round(R_l_3, 4), \"Ohm\")\n",
    "print(\"R_u =\", round(R_u, 4), \"Ohm\")\n",
    "print(\"R_l_1 =\", round(R_l_1, 4), \"Ohm\")\n",
    "print(\"R_II =\", round(R_II, 4), \"Ohm\")\n",
    "print(\"R_ges =\", round(R_ges, 4), \"Ohm\")\n",
    "print(\"I_ges =\", round(I_ges, 4), \"A\")\n",
    "print(\"U_v_R_l_3 =\", round(U_v_R_l_3, 4), \"V\")\n",
    "# Lösung:\n",
    "# "
   ]
  },
  {
   "cell_type": "code",
   "execution_count": 12,
   "metadata": {},
   "outputs": [
    {
     "name": "stdout",
     "output_type": "stream",
     "text": [
      "R_I = 350 Ohm\n",
      "R_II = 331 Ohm\n",
      "R_ges_1 = 170.1175 Ohm\n",
      "R_ges_2 = 103.2225 Ohm\n",
      "R_delta = 66.895 Ohm\n",
      "I_R_3 = 0.0417 A\n",
      "U_S_01 = 7.5462 V\n",
      "I_R_1 = 0.0394 A\n"
     ]
    }
   ],
   "source": [
    "# Aufgabe 3\n",
    "# geg: Schaltung\n",
    "R_1 = 200 # Ohm\n",
    "R_2 = 150 # Ohm\n",
    "R_3 = 150 # Ohm\n",
    "R_4 = 105 # Ohm\n",
    "R_5 = 76 # Ohm\n",
    "U_ges = 13.8 # V\n",
    "# Formel:\n",
    "# 3.1) # ges: R_I, R_II, R_ges_1, R_ges_2, R_delta\n",
    "R_I = R_1 + R_2\n",
    "R_II = R_3 + R_4 + R_5 # (Schalter offen)\n",
    "R_ges_1 = 1/(1/R_I + 1/R_II) # (Schalter offen)\n",
    "R_ges_2 = 1/(1/R_II + 1/R_3) # (Schalter zu)\n",
    "R_delta = R_ges_1 - R_ges_2\n",
    "# Gesamtwiderstand ändert sich\n",
    "# 3.3) # ges: I_R_3\n",
    "I_R_3 = U_ges/R_II # (Schalter offen)\n",
    "# 3.4) # ges: U_S_01\n",
    "U_S_01 = (R_4 + R_5) * I_R_3 # (Schalter offen)\n",
    "# 3.5) # ges: I_R_1\n",
    "I_R_1 = U_ges/R_I\n",
    "# Strom bleibt immer gleich, egal ob Schalter auf/zu\n",
    "# Ausgabe: print(\"U =\", round(U, 4), \"V\")\n",
    "print(\"R_I =\", round(R_I, 4), \"Ohm\")\n",
    "print(\"R_II =\", round(R_II, 4), \"Ohm\")\n",
    "print(\"R_ges_1 =\", round(R_ges_1, 4), \"Ohm\")\n",
    "print(\"R_ges_2 =\", round(R_ges_2, 4), \"Ohm\")\n",
    "print(\"R_delta =\", round(R_delta, 4), \"Ohm\")\n",
    "print(\"I_R_3 =\", round(I_R_3, 4), \"A\")\n",
    "print(\"U_S_01 =\", round(U_S_01, 4), \"V\")\n",
    "print(\"I_R_1 =\", round(I_R_1, 4), \"A\")\n",
    "# Lösung:\n",
    "# "
   ]
  },
  {
   "cell_type": "code",
   "execution_count": 16,
   "metadata": {},
   "outputs": [
    {
     "name": "stdout",
     "output_type": "stream",
     "text": [
      "R_2 = 82.5 Ohm\n",
      "U_R_4 = 0.756 V\n",
      "R_1 = 519.7 Ohm\n",
      "R_3 = 75.275 Ohm\n"
     ]
    }
   ],
   "source": [
    "# Aufgabe 4\n",
    "# geg: Schaltung\n",
    "R_4 = 4.2 # Ohm\n",
    "U_ges = 12.8 # V\n",
    "U_R_2 = 1.65 # V\n",
    "I_R_1 = 0.02 # A = 20 mA\n",
    "I_ges = 0.18 # A = 180 mA\n",
    "# ges: R_2, U_R_4, R_1, R_3\n",
    "# Formel:\n",
    "R_2 = U_R_2/I_R_1\n",
    "U_R_4 = R_4 * I_ges\n",
    "# R_1 = U_R_1/I_R_1\n",
    "R_1 = (U_ges - U_R_2 - U_R_4)/I_R_1\n",
    "# R_3 = U_R_3/I_R_3\n",
    "R_3 = (U_ges - U_R_4)/(I_ges - I_R_1)\n",
    "# Ausgabe: print(\"U =\", round(U, 4), \"V\")\n",
    "print(\"R_2 =\", round(R_2, 4), \"Ohm\")\n",
    "print(\"U_R_4 =\", round(U_R_4, 4), \"V\")\n",
    "print(\"R_1 =\", round(R_1, 4), \"Ohm\")\n",
    "print(\"R_3 =\", round(R_3, 4), \"Ohm\")\n",
    "# Lösung:\n",
    "# "
   ]
  },
  {
   "cell_type": "code",
   "execution_count": null,
   "metadata": {},
   "outputs": [],
   "source": []
  }
 ],
 "metadata": {
  "interpreter": {
   "hash": "d88b4992e5b06b322ead3277a6c0c22aea73de159b15016e3d5eb1aecc84f355"
  },
  "kernelspec": {
   "display_name": "Python 3",
   "language": "python",
   "name": "python3"
  },
  "language_info": {
   "codemirror_mode": {
    "name": "ipython",
    "version": 3
   },
   "file_extension": ".py",
   "mimetype": "text/x-python",
   "name": "python",
   "nbconvert_exporter": "python",
   "pygments_lexer": "ipython3",
   "version": "3.8.8"
  }
 },
 "nbformat": 4,
 "nbformat_minor": 2
}
