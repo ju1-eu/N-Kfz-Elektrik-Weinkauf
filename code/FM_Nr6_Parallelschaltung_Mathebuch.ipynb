{
 "cells": [
  {
   "cell_type": "markdown",
   "metadata": {},
   "source": [
    "# FM Nr. 6 Übungsaufgaben\n",
    "\n",
    "## Parallelschaltung\n",
    "\n",
    "Mathebuch S. 82 Aufgabe 4) a, b, c"
   ]
  },
  {
   "cell_type": "code",
   "execution_count": null,
   "metadata": {},
   "outputs": [],
   "source": [
    "import math as ma\n",
    "import numpy as np\n",
    "# round(Zahl, Stellen))# 4 Stellen nach Komma runden\n",
    "# print(\"l = \", round(l, 4), \"m\")\n",
    "# Potenz: 2**3 = 2^3\n",
    "# Wissenschaftliche Schreibweise\n",
    "#zahl_1 = float(0.0003648) # Ohm = 0.3648 mOhm = 0.0003648 Ohm = 3.648e-04 Ohm\n",
    "#print(np.format_float_scientific(zahl_1, precision = 4, exp_digits=2))\n",
    "#zahl_2 = float(2.6667e-03) # Ohm = 2.666666 mOhm = 0.002666666 Ohm = 2.6667e-03 Ohm\n",
    "#print(np.format_float_scientific(zahl_2, precision = 4, exp_digits=2))\n",
    "# Schleife: von 1 bis 10 \n",
    "#for i in range (1,11,1):\n",
    "#    print(i*i)\n",
    "# Terminal: jupyter notebook"
   ]
  },
  {
   "cell_type": "code",
   "execution_count": 1,
   "metadata": {},
   "outputs": [
    {
     "name": "stdout",
     "output_type": "stream",
     "text": [
      "I_1 = 0.42 A\n",
      "I_2 = 0.63 A\n",
      "I_ges = 1.05 A\n",
      "R_ges = 12.0 Ohm\n"
     ]
    }
   ],
   "source": [
    "# Aufgabe 4a\n",
    "# geg:\n",
    "R_1 = 30 # Ohm\n",
    "R_2 = 20 # Ohm\n",
    "U = 12.6 # V\n",
    "# ges: I_ges, I_1, I_2, R_ges\n",
    "# Formel:\n",
    "I_1 = U / R_1\n",
    "I_2 = U / R_2\n",
    "I_ges = I_1 + I_2\n",
    "R_ges = U / I_ges\n",
    "# Ausgabe: print(\"U =\", round(U, 4), \"V\")\n",
    "print(\"I_1 =\", round(I_1, 4), \"A\")\n",
    "print(\"I_2 =\", round(I_2, 4), \"A\")\n",
    "print(\"I_ges =\", round(I_ges, 4), \"A\")\n",
    "print(\"R_ges =\", round(R_ges, 4), \"Ohm\")\n",
    "# Lösung:\n",
    "# "
   ]
  },
  {
   "cell_type": "code",
   "execution_count": 4,
   "metadata": {},
   "outputs": [
    {
     "name": "stdout",
     "output_type": "stream",
     "text": [
      "I_ges = 0.5 A\n",
      "R_ges = 28.8 Ohm\n",
      "R_1 = 48.0 Ohm\n",
      "R_2 = 72.0 Ohm\n"
     ]
    }
   ],
   "source": [
    "# Aufgabe 4b\n",
    "# geg:\n",
    "I_1 = 0.3 # A\n",
    "I_2 = 0.2 # A\n",
    "U = 14.4 # V\n",
    "# ges: I_ges, R_ges, R_1, R_2\n",
    "# Formel:\n",
    "I_ges = I_1 + I_2\n",
    "R_ges = U / I_ges\n",
    "\n",
    "R_2 = U / I_2\n",
    "# Ausgabe: print(\"U =\", round(U, 4), \"V\")\n",
    "print(\"I_ges =\", round(I_ges, 4), \"A\")\n",
    "print(\"R_ges =\", round(R_ges, 4), \"Ohm\")\n",
    "print(\"R_1 =\", round(R_1, 4), \"Ohm\")\n",
    "print(\"R_2 =\", round(R_2, 4), \"Ohm\")\n",
    "# Lösung:\n",
    "# "
   ]
  },
  {
   "cell_type": "code",
   "execution_count": 8,
   "metadata": {},
   "outputs": [
    {
     "name": "stdout",
     "output_type": "stream",
     "text": [
      "I_1 = 0.9 A\n",
      "U = 225.0 V\n",
      "R_1 = 250.0 Ohm\n",
      "R_2 = 750.0 Ohm\n"
     ]
    }
   ],
   "source": [
    "# Aufgabe 4c\n",
    "# geg:\n",
    "I_ges = 1.2 # A\n",
    "I_2 = 0.3 # A\n",
    "R_ges = 187.5 # Ohm\n",
    "# ges: I_1, R_1, R_2, U\n",
    "# Formel:\n",
    "# I_ges = I_1 + I_2\n",
    "I_1 = I_ges - I_2\n",
    "U = R_ges * I_ges\n",
    "R_1 = U / I_1\n",
    "R_2 = U / I_2\n",
    "# Ausgabe: print(\"U =\", round(U, 4), \"V\")\n",
    "print(\"I_1 =\", round(I_1, 4), \"A\")\n",
    "print(\"U =\", round(U, 4), \"V\")\n",
    "print(\"R_1 =\", round(R_1, 4), \"Ohm\")\n",
    "print(\"R_2 =\", round(R_2, 4), \"Ohm\")\n",
    "# Lösung:\n",
    "# "
   ]
  },
  {
   "cell_type": "code",
   "execution_count": null,
   "metadata": {},
   "outputs": [],
   "source": []
  }
 ],
 "metadata": {
  "interpreter": {
   "hash": "d88b4992e5b06b322ead3277a6c0c22aea73de159b15016e3d5eb1aecc84f355"
  },
  "kernelspec": {
   "display_name": "Python 3",
   "language": "python",
   "name": "python3"
  },
  "language_info": {
   "codemirror_mode": {
    "name": "ipython",
    "version": 3
   },
   "file_extension": ".py",
   "mimetype": "text/x-python",
   "name": "python",
   "nbconvert_exporter": "python",
   "pygments_lexer": "ipython3",
   "version": "3.8.8"
  }
 },
 "nbformat": 4,
 "nbformat_minor": 2
}
