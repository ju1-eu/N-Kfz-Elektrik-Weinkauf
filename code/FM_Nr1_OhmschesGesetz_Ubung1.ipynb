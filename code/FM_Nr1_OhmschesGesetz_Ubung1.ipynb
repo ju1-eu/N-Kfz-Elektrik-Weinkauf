{
 "cells": [
  {
   "cell_type": "markdown",
   "metadata": {},
   "source": [
    "# FM Nr. 1 Übungsaufgaben\n",
    "\n",
    "## Ohmsches Gesetz Übung 1"
   ]
  },
  {
   "cell_type": "code",
   "execution_count": 1,
   "metadata": {},
   "outputs": [],
   "source": [
    "import math as ma\n",
    "import numpy as np\n",
    "# round(Zahl, Stellen))# 4 Stellen nach Komma runden\n",
    "# print(\"l = \", round(l, 4), \"m\")\n",
    "# Potenz: 2**3 = 2^3\n",
    "# Wissenschaftliche Schreibweise\n",
    "#zahl_1 = float(0.0003648) # Ohm = 0.3648 mOhm = 0.0003648 Ohm = 3.648e-04 Ohm\n",
    "#print(np.format_float_scientific(zahl_1, precision = 4, exp_digits=2))\n",
    "#zahl_2 = float(2.6667e-03) # Ohm = 2.666666 mOhm = 0.002666666 Ohm = 2.6667e-03 Ohm\n",
    "#print(np.format_float_scientific(zahl_2, precision = 4, exp_digits=2))\n",
    "# Schleife: von 1 bis 10 \n",
    "#for i in range (1,11,1):\n",
    "#    print(i*i)"
   ]
  },
  {
   "cell_type": "code",
   "execution_count": 2,
   "metadata": {},
   "outputs": [
    {
     "name": "stdout",
     "output_type": "stream",
     "text": [
      "U =  14.6498 V\n"
     ]
    }
   ],
   "source": [
    "# Aufgabe 1\n",
    "# geg:\n",
    "R = 45 # Ohm\n",
    "I = 0.32555 # A\n",
    "# ges: U in V\n",
    "U = R*I\n",
    "print(\"U = \", round(U, 4), \"V\")\n",
    "# Lösung:\n",
    "# U =  14.6498 V"
   ]
  },
  {
   "cell_type": "code",
   "execution_count": 3,
   "metadata": {},
   "outputs": [
    {
     "name": "stdout",
     "output_type": "stream",
     "text": [
      "R =  0.2621 Ohm\n"
     ]
    }
   ],
   "source": [
    "# Aufgabe 2\n",
    "# geg:\n",
    "U = 14.25 # V\n",
    "I = 54.37 # A\n",
    "# ges: R in Ohm\n",
    "R = U/I\n",
    "print(\"R = \", round(R, 4), \"Ohm\")\n",
    "# Lösung: \n",
    "# R =  0.2621 Ohm"
   ]
  },
  {
   "cell_type": "code",
   "execution_count": 4,
   "metadata": {},
   "outputs": [
    {
     "name": "stdout",
     "output_type": "stream",
     "text": [
      "I =  0.052 A\n"
     ]
    }
   ],
   "source": [
    "# Aufgabe 3\n",
    "# geg:\n",
    "U = 260 # V = 0.26 kV\n",
    "R = 5000 # Ohm = 5 kOhm\n",
    "# ges: I in A\n",
    "I = U/R\n",
    "print(\"I = \", round(I, 4), \"A\")\n",
    "# Lösung: \n",
    "# I =  0.052 A"
   ]
  },
  {
   "cell_type": "code",
   "execution_count": 5,
   "metadata": {},
   "outputs": [
    {
     "name": "stdout",
     "output_type": "stream",
     "text": [
      "U =  14.1987 V\n"
     ]
    }
   ],
   "source": [
    "# Aufgabe 4\n",
    "# geg:\n",
    "R = 470 # Ohm\n",
    "I = 0.03021 # A = 30,21 mA\n",
    "# ges: U in V\n",
    "U = R*I\n",
    "print(\"U = \", round(U, 4), \"V\")\n",
    "# Lösung:\n",
    "# U =  14.1987 V"
   ]
  },
  {
   "cell_type": "code",
   "execution_count": 6,
   "metadata": {},
   "outputs": [
    {
     "name": "stdout",
     "output_type": "stream",
     "text": [
      "I_1 =  2.1635 A\n",
      "I_2 =  1.2981 A\n",
      "I_delta =  0.8654 A\n"
     ]
    }
   ],
   "source": [
    "# Aufgabe 5\n",
    "# geg:\n",
    "U_1 = 14.82 # V \n",
    "R = 6.85 # Ohm \n",
    "# ges: I_delta in A\n",
    "# U_1 = 14.82 = 100%\n",
    "# U_2 = ?     =  60% (-40% Abnahme)\n",
    "U_2 = U_1*60/100\n",
    "I_1 = U_1/R\n",
    "I_2 = U_2/R\n",
    "I_delta = I_1 - I_2\n",
    "print(\"I_1 = \", round(I_1, 4), \"A\")\n",
    "print(\"I_2 = \", round(I_2, 4), \"A\")\n",
    "print(\"I_delta = \", round(I_delta, 4), \"A\")\n",
    "# Lösung: \n",
    "# I_1 =  2.1635 A\n",
    "# I_2 =  1.2981 A\n",
    "# I_delta =  0.8654 A"
   ]
  },
  {
   "cell_type": "code",
   "execution_count": 7,
   "metadata": {},
   "outputs": [
    {
     "name": "stdout",
     "output_type": "stream",
     "text": [
      "I_Steuer =  0.1972 A\n",
      "I_F2 =  5.424 A\n"
     ]
    }
   ],
   "source": [
    "# Aufgabe 6\n",
    "# geg:\n",
    "U = 14.2 # V \n",
    "R_E12 = 2.618 # Ohm \n",
    "R_K2 = 72 # Ohm \n",
    "# ges: I_Steuer, I_F2 in A\n",
    "I_Steuer = U/R_K2\n",
    "I_F2 = U/R_E12\n",
    "print(\"I_Steuer = \", round(I_Steuer, 4), \"A\")\n",
    "print(\"I_F2 = \", round(I_F2, 4), \"A\")\n",
    "# Lösung: \n",
    "# I_Steuer =  0.1972 A\n",
    "# I_F2 =  5.424 A"
   ]
  },
  {
   "cell_type": "code",
   "execution_count": 8,
   "metadata": {},
   "outputs": [
    {
     "name": "stdout",
     "output_type": "stream",
     "text": [
      "I_kalt =  16.0465 A\n",
      "I_warm =  11.7265 A\n",
      "R_warm =  1.1768 Ohm\n",
      "R_delta =  0.3168 Ohm\n"
     ]
    }
   ],
   "source": [
    "# Aufgabe 7\n",
    "# geg:\n",
    "I_delta = 4.32 # A \n",
    "R_kalt = 0.86 # Ohm \n",
    "U = 13.8 # V\n",
    "# ges: I_kalt, I_warm in A, R_delta in Ohm\n",
    "I_kalt = U/R_kalt\n",
    "I_warm = I_kalt - I_delta\n",
    "R_warm = U/I_warm\n",
    "R_delta = R_warm - R_kalt\n",
    "print(\"I_kalt = \", round(I_kalt, 4), \"A\")\n",
    "print(\"I_warm = \", round(I_warm, 4), \"A\")\n",
    "print(\"R_warm = \", round(R_warm, 4), \"Ohm\")\n",
    "print(\"R_delta = \", round(R_delta, 4), \"Ohm\")\n",
    "# Lösung: \n",
    "# I_kalt =  16.0465 A\n",
    "# I_warm =  11.7265 A\n",
    "# R_warm =  1.1768 Ohm\n",
    "# R_delta =  0.3168 Ohm\n"
   ]
  }
 ],
 "metadata": {
  "interpreter": {
   "hash": "d88b4992e5b06b322ead3277a6c0c22aea73de159b15016e3d5eb1aecc84f355"
  },
  "kernelspec": {
   "display_name": "Python 3",
   "language": "python",
   "name": "python3"
  },
  "language_info": {
   "codemirror_mode": {
    "name": "ipython",
    "version": 3
   },
   "file_extension": ".py",
   "mimetype": "text/x-python",
   "name": "python",
   "nbconvert_exporter": "python",
   "pygments_lexer": "ipython3",
   "version": "3.8.8"
  }
 },
 "nbformat": 4,
 "nbformat_minor": 2
}
