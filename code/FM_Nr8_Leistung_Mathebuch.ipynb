{
 "cells": [
  {
   "cell_type": "markdown",
   "metadata": {},
   "source": [
    "# FM Nr. 8 Übungsaufgaben\n",
    "\n",
    "## Leistung\n",
    "\n",
    "Mathebuch \n",
    "S. 82 Aufgabe 4d) \n",
    "S. 84 Aufgabe 4) \n",
    "S. 82 Aufgabe 3)"
   ]
  },
  {
   "cell_type": "code",
   "execution_count": 1,
   "metadata": {},
   "outputs": [],
   "source": [
    "import math as ma\n",
    "import numpy as np\n",
    "# round(Zahl, Stellen))# 4 Stellen nach Komma runden\n",
    "# print(\"l = \", round(l, 4), \"m\")\n",
    "# Potenz: 2**3 = 2^3\n",
    "# Wissenschaftliche Schreibweise\n",
    "# Exponentialschreibweise: \\num{2,67e-03} => 2.67 x 10^-3\n",
    "# Pfeil: \\curvearrowright  oder \\to\n",
    "# Mathemodus: https://katex.org/docs/supported.html\n",
    "#zahl_1 = float(0.0003648) # Ohm = 0.3648 mOhm = 0.0003648 Ohm = 3.648e-04 Ohm \n",
    "#print(np.format_float_scientific(zahl_1, precision = 4, exp_digits=2))\n",
    "#zahl_2 = float(2.6667e-03) # Ohm = 2.666666 mOhm = 0.002666666 Ohm = 2.6667e-03 Ohm\n",
    "#print(np.format_float_scientific(zahl_2, precision = 4, exp_digits=2))\n",
    "# Schleife: von 1 bis 10 \n",
    "#for i in range (1,11,1):\n",
    "#    print(i*i)\n",
    "# Terminal: jupyter notebook"
   ]
  },
  {
   "cell_type": "code",
   "execution_count": 2,
   "metadata": {},
   "outputs": [
    {
     "name": "stdout",
     "output_type": "stream",
     "text": [
      "R_ges = 600.0 Ohm\n",
      "I_2 = 0.21 A\n",
      "I_1 = 0.14 A\n",
      "R_1 = 1500.0 Ohm\n",
      "P_R_1 = 29.4 W\n",
      "P_R_2 = 44.1 W\n"
     ]
    }
   ],
   "source": [
    "# Mathebuch S. 82 Aufgabe 4d) \n",
    "# geg:\n",
    "I_ges = 0.35 # A\n",
    "U = 210 # V\n",
    "R_2 = 1000 # Ohm = 1 k\n",
    "# ges: I_1, I_2, R_ges, R_1, P_R_1, P_R_2\n",
    "# Formel:\n",
    "R_ges = U / I_ges\n",
    "I_2 = U / R_2\n",
    "# I_ges = I_1 + I_2\n",
    "I_1 = I_ges - I_2\n",
    "R_1 = U / I_1\n",
    "P_R_1 = U * I_1\n",
    "P_R_2 = U * I_2\n",
    "# Ausgabe: print(\"U =\", round(U, 4), \"V\")\n",
    "print(\"R_ges =\", round(R_ges, 4), \"Ohm\")\n",
    "print(\"I_2 =\", round(I_2, 4), \"A\")\n",
    "print(\"I_1 =\", round(I_1, 4), \"A\")\n",
    "print(\"R_1 =\", round(R_1, 4), \"Ohm\")\n",
    "print(\"P_R_1 =\", round(P_R_1, 4), \"W\")\n",
    "print(\"P_R_2 =\", round(P_R_2, 4), \"W\")\n",
    "# Lösung:\n",
    "# "
   ]
  },
  {
   "cell_type": "code",
   "execution_count": 12,
   "metadata": {},
   "outputs": [
    {
     "name": "stdout",
     "output_type": "stream",
     "text": [
      "I_k = 9.5238 A\n",
      "R_k_1 = 1.1025 Ohm\n",
      "R_k_2 = 1.1025 Ohm\n"
     ]
    }
   ],
   "source": [
    "# Mathebuch S. 84 Aufgabe 4) \n",
    "# geg: Glühkerze\n",
    "U_k = 10.5 # V\n",
    "P_k = 100 # W\n",
    "# ges: I_k, R_k\n",
    "# Formel:\n",
    "# P = U * I\n",
    "I_k = P_k/U_k\n",
    "R_k_1 = U_k/I_k # (Var. 1)\n",
    "# P = U * I\n",
    "# P = U^2/R\n",
    "R_k_2 = (U_k * U_k)/P_k # (Var. 2)\n",
    "# Ausgabe: print(\"U =\", round(U, 4), \"V\")\n",
    "print(\"I_k =\", round(I_k, 4), \"A\")\n",
    "print(\"R_k_1 =\", round(R_k_1, 4), \"Ohm\")\n",
    "print(\"R_k_2 =\", round(R_k_2, 4), \"Ohm\")\n",
    "# Lösung:\n",
    "# "
   ]
  },
  {
   "cell_type": "code",
   "execution_count": 22,
   "metadata": {},
   "outputs": [
    {
     "name": "stdout",
     "output_type": "stream",
     "text": [
      "R_La = 528.4553 Ohm\n",
      "R_l_1 = 1341.4634 Ohm\n",
      "R_l_2 = 1073.1707 Ohm\n",
      "R_ges_tat = 1601.626 Ohm\n",
      "I_tat = 0.1436 A\n",
      "U_k_La_tat = 75.8883 V\n",
      "P_La_tat = 10.8979 W\n"
     ]
    }
   ],
   "source": [
    "# Mathebuch S. 82 Aufgabe 3)\n",
    "# geg: Leuchtstoffröhre 65V/8W Schaltung\n",
    "U_ges = 230 # V\n",
    "U_k_La = 65 # V\n",
    "l_1 = 5 # m\n",
    "l_2 = 4 # m\n",
    "I_1 = 0.123 # A = 123 mA\n",
    "# ges: U_k_La_tat, P_La_tat\n",
    "# Formel:\n",
    "R_La = U_k_La/I_1\n",
    "# R_l_1 = U_R_l_1/I_1\n",
    "R_l_1 = (U_ges - U_k_La)/I_1\n",
    "# Dreisatz\n",
    "# 5 m = 1341.46 Ohm\n",
    "# 4 m = x Ohm\n",
    "R_l_2 = l_2 * R_l_1/l_1\n",
    "R_ges_tat = R_l_2 + R_La\n",
    "I_tat = U_ges / R_ges_tat\n",
    "U_k_La_tat = R_La * I_tat\n",
    "P_La_tat = U_k_La_tat * I_tat\n",
    "# Ausgabe: print(\"U =\", round(U, 4), \"V\")\n",
    "print(\"R_La =\", round(R_La, 4), \"Ohm\")\n",
    "print(\"R_l_1 =\", round(R_l_1, 4), \"Ohm\")\n",
    "print(\"R_l_2 =\", round(R_l_2, 4), \"Ohm\")\n",
    "print(\"R_ges_tat =\", round(R_ges_tat, 4), \"Ohm\")\n",
    "print(\"I_tat =\", round(I_tat, 4), \"A\")\n",
    "print(\"U_k_La_tat =\", round(U_k_La_tat, 4), \"V\")\n",
    "print(\"P_La_tat =\", round(P_La_tat, 4), \"W\")\n",
    "# Lösung:\n",
    "# "
   ]
  },
  {
   "cell_type": "code",
   "execution_count": null,
   "metadata": {},
   "outputs": [],
   "source": []
  }
 ],
 "metadata": {
  "interpreter": {
   "hash": "d88b4992e5b06b322ead3277a6c0c22aea73de159b15016e3d5eb1aecc84f355"
  },
  "kernelspec": {
   "display_name": "Python 3",
   "language": "python",
   "name": "python3"
  },
  "language_info": {
   "codemirror_mode": {
    "name": "ipython",
    "version": 3
   },
   "file_extension": ".py",
   "mimetype": "text/x-python",
   "name": "python",
   "nbconvert_exporter": "python",
   "pygments_lexer": "ipython3",
   "version": "3.8.8"
  }
 },
 "nbformat": 4,
 "nbformat_minor": 2
}
