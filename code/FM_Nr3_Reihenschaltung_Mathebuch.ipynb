{
 "cells": [
  {
   "cell_type": "markdown",
   "metadata": {},
   "source": [
    "# FM Nr. 3 Übungsaufgaben\n",
    "\n",
    "## Reihenschaltung\n",
    "\n",
    "Mathebuch S.82"
   ]
  },
  {
   "cell_type": "code",
   "execution_count": null,
   "metadata": {},
   "outputs": [],
   "source": [
    "import math as ma\n",
    "import numpy as np\n",
    "# round(Zahl, Stellen))# 4 Stellen nach Komma runden\n",
    "# print(\"l = \", round(l, 4), \"m\")\n",
    "# Potenz: 2**3 = 2^3\n",
    "# Wissenschaftliche Schreibweise\n",
    "#zahl_1 = float(0.0003648) # Ohm = 0.3648 mOhm = 0.0003648 Ohm = 3.648e-04 Ohm\n",
    "#print(np.format_float_scientific(zahl_1, precision = 4, exp_digits=2))\n",
    "#zahl_2 = float(2.6667e-03) # Ohm = 2.666666 mOhm = 0.002666666 Ohm = 2.6667e-03 Ohm\n",
    "#print(np.format_float_scientific(zahl_2, precision = 4, exp_digits=2))\n",
    "# Schleife: von 1 bis 10 \n",
    "#for i in range (1,11,1):\n",
    "#    print(i*i)\n",
    "# Terminal: jupyter notebook"
   ]
  },
  {
   "cell_type": "code",
   "execution_count": null,
   "metadata": {},
   "outputs": [],
   "source": [
    "# Aufgabe 1\n",
    "# geg:\n",
    "R_1 = 125 # Ohm\n",
    "R_2 = 250 # Ohm\n",
    "U = 225 # V\n",
    "# ges: R_ges, I, U_1, U_2\n",
    "# Lösung:\n",
    "R_ges = R_1 + R_2\n",
    "I = U/R_ges\n",
    "U_1 = R_1 * I\n",
    "U_2 = R_2 * I\n",
    "#print(\"U = \", round(U, 4), \"V\")\n",
    "print(\"R_ges = \", round(R_ges, 4), \"Ohm\")\n",
    "print(\"I = \", round(I, 4), \"A\")\n",
    "print(\"U_1 = \", round(U_1, 4), \"V\")\n",
    "print(\"U_2 = \", round(U_2, 4), \"V\")\n",
    "# R_ges =  375 Ohm\n",
    "# I =  0.6 A\n",
    "# U_1 =  75.0 V\n",
    "# U_2 =  150.0 V"
   ]
  },
  {
   "cell_type": "code",
   "execution_count": null,
   "metadata": {},
   "outputs": [],
   "source": [
    "# Aufgabe 2\n",
    "# geg:\n",
    "U_ges = 235 # V\n",
    "R_1 = 176 # Ohm\n",
    "I = 0.25 # A\n",
    "# ges: U_1, U_2, R_2\n",
    "# Lösung:\n",
    "U_1 = R_1 * I\n",
    "#U_ges = U_1 + U_2\n",
    "U_2 = U_ges - U_1\n",
    "R_2 = U_2/I\n",
    "#print(\"U = \", round(U, 4), \"V\")\n",
    "print(\"U_1 = \", round(U_1, 4), \"V\")\n",
    "print(\"U_2 = \", round(U_2, 4), \"V\")\n",
    "print(\"R_2 = \", round(R_2, 4), \"Ohm\")\n",
    "# U_1 =  44.0 V\n",
    "# U_2 =  191.0 V\n",
    "# R_2 =  764.0 Ohm"
   ]
  },
  {
   "cell_type": "code",
   "execution_count": null,
   "metadata": {},
   "outputs": [],
   "source": []
  }
 ],
 "metadata": {
  "interpreter": {
   "hash": "d88b4992e5b06b322ead3277a6c0c22aea73de159b15016e3d5eb1aecc84f355"
  },
  "kernelspec": {
   "display_name": "Python 3",
   "language": "python",
   "name": "python3"
  },
  "language_info": {
   "codemirror_mode": {
    "name": "ipython",
    "version": 3
   },
   "file_extension": ".py",
   "mimetype": "text/x-python",
   "name": "python",
   "nbconvert_exporter": "python",
   "pygments_lexer": "ipython3",
   "version": "3.8.8"
  }
 },
 "nbformat": 4,
 "nbformat_minor": 2
}
