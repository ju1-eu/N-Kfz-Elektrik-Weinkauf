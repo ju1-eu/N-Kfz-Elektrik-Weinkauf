{
 "cells": [
  {
   "cell_type": "markdown",
   "metadata": {},
   "source": [
    "# Rechenbeispiel - Reihenschaltung"
   ]
  },
  {
   "cell_type": "code",
   "execution_count": 1,
   "metadata": {},
   "outputs": [],
   "source": [
    "import math as ma\n",
    "import numpy as np\n",
    "# round(Zahl, Stellen))# 4 Stellen nach Komma runden\n",
    "# print(\"l = \", round(l, 4), \"m\")\n",
    "# Potenz: 2**3 = 2^3\n",
    "# Wissenschaftliche Schreibweise\n",
    "#zahl_1 = float(0.0003648) # Ohm = 0.3648 mOhm = 0.0003648 Ohm = 3.648e-04 Ohm\n",
    "#print(np.format_float_scientific(zahl_1, precision = 4, exp_digits=2))\n",
    "#zahl_2 = float(2.6667e-03) # Ohm = 2.666666 mOhm = 0.002666666 Ohm = 2.6667e-03 Ohm\n",
    "#print(np.format_float_scientific(zahl_2, precision = 4, exp_digits=2))\n",
    "# Schleife: von 1 bis 10 \n",
    "#for i in range (1,11,1):\n",
    "#    print(i*i)\n",
    "# Terminal: jupyter notebook"
   ]
  },
  {
   "cell_type": "code",
   "execution_count": 4,
   "metadata": {},
   "outputs": [
    {
     "name": "stdout",
     "output_type": "stream",
     "text": [
      "R_ges =  870 Ohm\n",
      "I =  0.0159 A\n",
      "U_1 =  3.4897 V\n",
      "U_2 =  7.4552 V\n",
      "U_3 =  2.8552 V\n"
     ]
    }
   ],
   "source": [
    "# geg:\n",
    "U_ges = 13.8 # V\n",
    "R_1 = 220 # Ohm\n",
    "R_2 = 470 # Ohm\n",
    "R_3 = 180 # Ohm\n",
    "# ges: I, U_1, U_2, U_3, R_ges\n",
    "# Lösung:\n",
    "R_ges = R_1 + R_2 + R_3\n",
    "I = U_ges/R_ges\n",
    "U_1 = R_1 * I\n",
    "U_2 = R_2 * I\n",
    "U_3 = R_3 * I\n",
    "#Ausgabe: \n",
    "print(\"R_ges = \", round(R_ges, 4), \"Ohm\")\n",
    "print(\"I = \", round(I, 4), \"A\")\n",
    "print(\"U_1 = \", round(U_1, 4), \"V\")\n",
    "print(\"U_2 = \", round(U_2, 4), \"V\")\n",
    "print(\"U_3 = \", round(U_3, 4), \"V\")\n",
    "# R_ges =  870 Ohm\n",
    "# I =  0.0159 A\n",
    "# U_1 =  3.4897 V\n",
    "# U_2 =  7.4552 V\n",
    "# U_3 =  2.8552 V"
   ]
  },
  {
   "cell_type": "code",
   "execution_count": null,
   "metadata": {},
   "outputs": [],
   "source": []
  }
 ],
 "metadata": {
  "interpreter": {
   "hash": "d88b4992e5b06b322ead3277a6c0c22aea73de159b15016e3d5eb1aecc84f355"
  },
  "kernelspec": {
   "display_name": "Python 3",
   "language": "python",
   "name": "python3"
  },
  "language_info": {
   "codemirror_mode": {
    "name": "ipython",
    "version": 3
   },
   "file_extension": ".py",
   "mimetype": "text/x-python",
   "name": "python",
   "nbconvert_exporter": "python",
   "pygments_lexer": "ipython3",
   "version": "3.8.8"
  }
 },
 "nbformat": 4,
 "nbformat_minor": 2
}
