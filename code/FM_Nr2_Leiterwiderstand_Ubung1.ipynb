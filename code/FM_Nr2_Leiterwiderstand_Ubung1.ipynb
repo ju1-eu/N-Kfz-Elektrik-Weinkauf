{
 "cells": [
  {
   "cell_type": "markdown",
   "metadata": {},
   "source": [
    "# FM Nr. 2 Übungsaufgaben\n",
    "\n",
    "## Leiterwiderstand Übung 1"
   ]
  },
  {
   "cell_type": "code",
   "execution_count": null,
   "metadata": {},
   "outputs": [],
   "source": [
    "import math as ma\n",
    "import numpy as np\n",
    "# round(Zahl, Stellen))# 4 Stellen nach Komma runden\n",
    "# Potenz: 2**3 = 2^3\n",
    "# Wissenschaftliche Schreibweise\n",
    "#zahl_1 = float(0.0003648) # Ohm = 0.3648 mOhm = 0.0003648 Ohm = 3.648e-04 Ohm\n",
    "#print(np.format_float_scientific(zahl_1, precision = 4, exp_digits=2))\n",
    "#zahl_2 = float(2.6667e-03) # Ohm = 2.666666 mOhm = 0.002666666 Ohm = 2.6667e-03 Ohm\n",
    "#print(np.format_float_scientific(zahl_2, precision = 4, exp_digits=2))\n",
    "# Schleife: von 1 bis 10 \n",
    "#for i in range (1,11,1):\n",
    "#    print(i*i)"
   ]
  },
  {
   "cell_type": "code",
   "execution_count": null,
   "metadata": {},
   "outputs": [],
   "source": [
    "# Aufgabe 1\n",
    "# geg.:\n",
    "l = 8.25 # m\n",
    "A = 0.75 # mm^2\n",
    "p = 0.0178 # Kupfer ohm x mm^2 / m \n",
    "# ges.: R_l\n",
    "R_l = p*l / A\n",
    "print(\"R_l = \", round(R_l, 4), \"Ohm\")\n",
    "# R_l =  0.1958 Ohm"
   ]
  },
  {
   "cell_type": "code",
   "execution_count": null,
   "metadata": {},
   "outputs": [],
   "source": [
    "# Aufgabe 2\n",
    "# geg.:\n",
    "R_l = 3.648e-04 # Ohm = 0.3648 mOhm = 0.0003648 Ohm = 3.648e-04 Ohm\n",
    "p = 0.0178 # Kupfer ohm x mm^2 / m \n",
    "d = 12.363 # mm\n",
    "# ges.: l in m\n",
    "# R_l = p*l / A\n",
    "# pi/4 = 0.785\n",
    "A = d**2 * 0.785\n",
    "l = R_l * A / p\n",
    "print(\"l = \", round(l, 4), \"m\")\n",
    "# l =  2.459 m"
   ]
  },
  {
   "cell_type": "code",
   "execution_count": null,
   "metadata": {},
   "outputs": [],
   "source": [
    "# Aufgabe 3\n",
    "# geg.:\n",
    "l = 4.5 # m\n",
    "R_l = 0.00267 # 2,666666 mOhm  = 2,67e-03 Ohm\n",
    "p = 0.0178 # Kupfer ohm x mm^2 / m \n",
    "# ges.: A, l, R_l, G, V, m\n",
    "# Lösung\n",
    "# R_l = p*l / A\n",
    "A = p*l / R_l\n",
    "print(\"A = \", round(A, 4), \"mm^2\")\n",
    "# A =  30.0 mm^2"
   ]
  },
  {
   "cell_type": "code",
   "execution_count": null,
   "metadata": {},
   "outputs": [],
   "source": [
    "# Aufgabe 4\n",
    "# geg.: Spule\n",
    "d_m = 36 # mm = 3.6 cm\n",
    "N = 1480 # Windungen\n",
    "d_D = 0.36 # mm\n",
    "p_cu = 8.93 # t/m^3 Dichte\n",
    "p = 0.0178 # Kupfer ohm x mm^2 / m \n",
    "# ges.: l, A, R_l, G, V, m\n",
    "# Lösung\n",
    "# pi/4 = 0.785\n",
    "# U = d * pi\n",
    "# Kreisringfläche: d_mitte = d_m; D = Außendurchmesser; d = Innendurchmesser; r = Radius\n",
    "# d_m = (D+d)/2; r_m = (D+d)/4\n",
    "A = d_D**2 * ma.pi/4\n",
    "#l = U * N [cm]\n",
    "l = d_m/10 * ma.pi * N\n",
    "R_l = p*l/100 / A\n",
    "G = 1/R_l\n",
    "#V = A * h [cm^3]\n",
    "V = A/100 * l\n",
    "m = V * p_cu\n",
    "print(\"A = \", round(A, 4), \"mm^2\")\n",
    "print(\"l = \", round(l, 4), \"cm\")\n",
    "print(\"R_l = \", round(R_l, 4), \"Ohm\")\n",
    "print(\"G = \", round(G, 4), \"S\")\n",
    "print(\"V = \", round(V, 4), \"cm^3\")\n",
    "print(\"m = \", round(m, 4), \"g\")\n",
    "# A =  0.1018 mm^2\n",
    "# l =  16738.4057 cm\n",
    "# R_l =  29.2711 Ohm\n",
    "# G =  0.0342 S\n",
    "# V =  17.0376 cm^3\n",
    "# m =  152.146 g"
   ]
  },
  {
   "cell_type": "code",
   "execution_count": null,
   "metadata": {},
   "outputs": [],
   "source": [
    "# Aufgabe 5\n",
    "# geg.:\n",
    "R_l = 1.3171999e-2 # Ohm = 13.171999 mOhm = 0.013171999 Ohm = 1.3171999e-2 Ohm\n",
    "p = 0.0178 # Kupfer ohm x mm^2 / m \n",
    "d = 1.784576526 # mm\n",
    "# ges.: l in m\n",
    "# R_l = p*l / A\n",
    "# pi/4 = 0.785\n",
    "A = d**2 * 0.785\n",
    "l = R_l * A / p\n",
    "print(\"l = \", round(l, 4), \"m\") \n",
    "# l =  1.85 m"
   ]
  },
  {
   "cell_type": "markdown",
   "metadata": {},
   "source": [
    "5.2) Gleiche Leiterfläche für die Rückleitung, dass sie genauso hoch belastet wird wie die positive Versorgungsleitung.\n",
    "\n",
    "Sie liegen beide in Reihe, werden also vom gleichen Strom durchflossen."
   ]
  }
 ],
 "metadata": {
  "interpreter": {
   "hash": "d88b4992e5b06b322ead3277a6c0c22aea73de159b15016e3d5eb1aecc84f355"
  },
  "kernelspec": {
   "display_name": "Python 3",
   "language": "python",
   "name": "python3"
  },
  "language_info": {
   "codemirror_mode": {
    "name": "ipython",
    "version": 3
   },
   "file_extension": ".py",
   "mimetype": "text/x-python",
   "name": "python",
   "nbconvert_exporter": "python",
   "pygments_lexer": "ipython3",
   "version": "3.8.8"
  }
 },
 "nbformat": 4,
 "nbformat_minor": 2
}
