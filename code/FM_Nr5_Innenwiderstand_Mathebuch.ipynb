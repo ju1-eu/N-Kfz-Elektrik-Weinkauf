{
 "cells": [
  {
   "cell_type": "markdown",
   "metadata": {},
   "source": [
    "# FM Nr. 5 Übungsaufgaben\n",
    "\n",
    "## Innenwiderstand\n",
    "\n",
    "Mathebuch S. 121"
   ]
  },
  {
   "cell_type": "code",
   "execution_count": null,
   "metadata": {},
   "outputs": [],
   "source": [
    "import math as ma\n",
    "import numpy as np\n",
    "# round(Zahl, Stellen))# 4 Stellen nach Komma runden\n",
    "# print(\"l = \", round(l, 4), \"m\")\n",
    "# Potenz: 2**3 = 2^3\n",
    "# Wissenschaftliche Schreibweise\n",
    "#zahl_1 = float(0.0003648) # Ohm = 0.3648 mOhm = 0.0003648 Ohm = 3.648e-04 Ohm\n",
    "#print(np.format_float_scientific(zahl_1, precision = 4, exp_digits=2))\n",
    "#zahl_2 = float(2.6667e-03) # Ohm = 2.666666 mOhm = 0.002666666 Ohm = 2.6667e-03 Ohm\n",
    "#print(np.format_float_scientific(zahl_2, precision = 4, exp_digits=2))\n",
    "# Schleife: von 1 bis 10 \n",
    "#for i in range (1,11,1):\n",
    "#    print(i*i)\n",
    "# Terminal: jupyter notebook"
   ]
  },
  {
   "cell_type": "code",
   "execution_count": 3,
   "metadata": {},
   "outputs": [
    {
     "name": "stdout",
     "output_type": "stream",
     "text": [
      "I = 200.0 A\n",
      "U_k = 10.2 V\n"
     ]
    }
   ],
   "source": [
    "# Aufgabe 1\n",
    "# geg:\n",
    "U_q = 12.6 # V\n",
    "R_i = 0.012 # Ohm = 12 mOhm\n",
    "R_a = 0.051 # Ohm\n",
    "# ges: I, U_k\n",
    "# Formel:\n",
    "I = U_q/(R_i + R_a) # I = U_q/R_ges\n",
    "U_k = I * R_a\n",
    "# Ausgabe: print(\"I =\", round(I, 4), \"A\")\n",
    "print(\"I =\", round(I, 4), \"A\")\n",
    "print(\"U_k =\", round(U_k, 4), \"V\")\n",
    "# Lösung:\n",
    "# I = 200.0 A\n",
    "# U_k = 10.2 V"
   ]
  },
  {
   "cell_type": "code",
   "execution_count": 4,
   "metadata": {},
   "outputs": [
    {
     "name": "stdout",
     "output_type": "stream",
     "text": [
      "R_i1 = 0.0105 Ohm\n",
      "R_i2 = 0.0158 Ohm\n"
     ]
    }
   ],
   "source": [
    "# Aufgabe 2\n",
    "# geg:\n",
    "I = 400 # A\n",
    "U_q = 12.5 # V\n",
    "U_k1 = 8.3 # V (nach 30s)\n",
    "U_k2 = 6.2 # V (nach 150s)\n",
    "# ges: R_i1, R_i2\n",
    "# Formel:\n",
    "R_i1 = (U_q - U_k1)/I # R_i1 = U_i1/I\n",
    "R_i2 = (U_q - U_k2)/I # R_i2 = U_i2/I\n",
    "# Ausgabe: print(\"U =\", round(U, 4), \"V\")\n",
    "print(\"R_i1 =\", round(R_i1, 4), \"Ohm\")\n",
    "print(\"R_i2 =\", round(R_i2, 4), \"Ohm\")\n",
    "# Lösung:\n",
    "# R_i1 = 0.0105 Ohm\n",
    "# R_i2 = 0.0158 Ohm"
   ]
  },
  {
   "cell_type": "code",
   "execution_count": null,
   "metadata": {},
   "outputs": [],
   "source": []
  }
 ],
 "metadata": {
  "interpreter": {
   "hash": "d88b4992e5b06b322ead3277a6c0c22aea73de159b15016e3d5eb1aecc84f355"
  },
  "kernelspec": {
   "display_name": "Python 3",
   "language": "python",
   "name": "python3"
  },
  "language_info": {
   "codemirror_mode": {
    "name": "ipython",
    "version": 3
   },
   "file_extension": ".py",
   "mimetype": "text/x-python",
   "name": "python",
   "nbconvert_exporter": "python",
   "pygments_lexer": "ipython3",
   "version": "3.8.8"
  }
 },
 "nbformat": 4,
 "nbformat_minor": 2
}
