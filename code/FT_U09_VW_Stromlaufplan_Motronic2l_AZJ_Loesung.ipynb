{
 "cells": [
  {
   "cell_type": "markdown",
   "metadata": {},
   "source": [
    "# FT Nr. 9 Übungsaufgaben\n",
    "\n",
    "## Aufgabenstellung Motronic 2,0l AZJ "
   ]
  },
  {
   "cell_type": "code",
   "execution_count": 1,
   "metadata": {},
   "outputs": [],
   "source": [
    "import math as ma\n",
    "import numpy as np\n",
    "# round(Zahl, Stellen))# 4 Stellen nach Komma runden\n",
    "# print(\"l = \", round(l, 4), \"m\")\n",
    "# Potenz: 2**3 = 2^3\n",
    "# Wissenschaftliche Schreibweise\n",
    "# Exponentialschreibweise: \\num{2,67e-03} => 2.67 x 10^-3\n",
    "# Pfeil: \\curvearrowright  oder \\to\n",
    "# Mathemodus: https://katex.org/docs/supported.html\n",
    "#zahl_1 = float(0.0003648) # Ohm = 0.3648 mOhm = 0.0003648 Ohm = 3.648e-04 Ohm \n",
    "#print(np.format_float_scientific(zahl_1, precision = 4, exp_digits=2))\n",
    "#zahl_2 = float(2.6667e-03) # Ohm = 2.666666 mOhm = 0.002666666 Ohm = 2.6667e-03 Ohm\n",
    "#print(np.format_float_scientific(zahl_2, precision = 4, exp_digits=2))\n",
    "# Schleife: von 1 bis 10 \n",
    "#for i in range (1,11,1):\n",
    "#    print(i*i)\n",
    "# Terminal: jupyter notebook"
   ]
  },
  {
   "cell_type": "code",
   "execution_count": 6,
   "metadata": {},
   "outputs": [
    {
     "name": "stdout",
     "output_type": "stream",
     "text": [
      "I = 0.7235 A\n",
      "P = 8.8994 W\n"
     ]
    }
   ],
   "source": [
    "# Aufgabe 7\n",
    "# geg:\n",
    "U_B = 13.8 # V\n",
    "U_CE = 1.5 # V\n",
    "R_Ventil = 17 # Ohm\n",
    "# ges: P_E-Ventil_1.Zyl\n",
    "# Formel:\n",
    "# I = U_Ventil / R_Ventil\n",
    "I = (U_B - U_CE) / R_Ventil\n",
    "# P = U * I\n",
    "P = (U_B - U_CE) * I\n",
    "# Ausgabe: print(\"U =\", round(U, 4), \"V\")\n",
    "print(\"I =\", round(I, 4), \"A\")\n",
    "print(\"P =\", round(P, 4), \"W\")\n",
    "# Lösung:\n",
    "# "
   ]
  },
  {
   "cell_type": "code",
   "execution_count": 12,
   "metadata": {},
   "outputs": [
    {
     "name": "stdout",
     "output_type": "stream",
     "text": [
      "R_l = 0.061 Ohm\n",
      "R_ges = 17.061 Ohm\n",
      "I = 0.7209 A\n",
      "U_v = 0.044 V\n"
     ]
    }
   ],
   "source": [
    "# Aufgabe 8\n",
    "# geg:\n",
    "U_B = 13.8 # V\n",
    "U_CE = 1.5 # V\n",
    "R_Ventil = 17 # Ohm\n",
    "A = 0.35 # mm^2 aus Stromlaufplan Nr. 77/9\n",
    "l = 1.2 # m\n",
    "p = 0.0178 # Ohm x mm^2/m\n",
    "# ges: Spannungsminderung U_v_minusseitigeVersorgung_4.Zyl\n",
    "# Formel:\n",
    "# U_Ventil = U_B - U_CE - U_v\n",
    "R_l = p * l / A\n",
    "R_ges = R_Ventil + R_l\n",
    "# I = U_k / R_ges\n",
    "I = (U_B - U_CE) / R_ges\n",
    "U_v = I * R_l\n",
    "# Alternative\n",
    "# U_v = I * p * l / A\n",
    "# Ausgabe: print(\"U =\", round(U, 4), \"V\")\n",
    "print(\"R_l =\", round(R_l, 4), \"Ohm\")\n",
    "print(\"R_ges =\", round(R_ges, 4), \"Ohm\")\n",
    "print(\"I =\", round(I, 4), \"A\")\n",
    "print(\"U_v =\", round(U_v, 4), \"V\")\n",
    "# Lösung:\n",
    "# "
   ]
  },
  {
   "cell_type": "code",
   "execution_count": null,
   "metadata": {},
   "outputs": [],
   "source": []
  }
 ],
 "metadata": {
  "interpreter": {
   "hash": "d88b4992e5b06b322ead3277a6c0c22aea73de159b15016e3d5eb1aecc84f355"
  },
  "kernelspec": {
   "display_name": "Python 3",
   "language": "python",
   "name": "python3"
  },
  "language_info": {
   "codemirror_mode": {
    "name": "ipython",
    "version": 3
   },
   "file_extension": ".py",
   "mimetype": "text/x-python",
   "name": "python",
   "nbconvert_exporter": "python",
   "pygments_lexer": "ipython3",
   "version": "3.8.8"
  }
 },
 "nbformat": 4,
 "nbformat_minor": 2
}
