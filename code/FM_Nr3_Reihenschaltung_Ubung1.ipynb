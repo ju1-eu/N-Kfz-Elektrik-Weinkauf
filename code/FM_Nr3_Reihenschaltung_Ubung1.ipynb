{
 "cells": [
  {
   "cell_type": "markdown",
   "metadata": {},
   "source": [
    "# FM Nr. 3 Übungsaufgaben\n",
    "\n",
    "## Reihenschaltung"
   ]
  },
  {
   "cell_type": "code",
   "execution_count": null,
   "metadata": {},
   "outputs": [],
   "source": [
    "import math as ma\n",
    "import numpy as np\n",
    "# round(Zahl, Stellen))# 4 Stellen nach Komma runden\n",
    "# print(\"l = \", round(l, 4), \"m\")\n",
    "# Potenz: 2**3 = 2^3\n",
    "# Wissenschaftliche Schreibweise\n",
    "#zahl_1 = float(0.0003648) # Ohm = 0.3648 mOhm = 0.0003648 Ohm = 3.648e-04 Ohm\n",
    "#print(np.format_float_scientific(zahl_1, precision = 4, exp_digits=2))\n",
    "#zahl_2 = float(2.6667e-03) # Ohm = 2.666666 mOhm = 0.002666666 Ohm = 2.6667e-03 Ohm\n",
    "#print(np.format_float_scientific(zahl_2, precision = 4, exp_digits=2))\n",
    "# Schleife: von 1 bis 10 \n",
    "#for i in range (1,11,1):\n",
    "#    print(i*i)\n",
    "# Terminal: jupyter notebook"
   ]
  },
  {
   "cell_type": "code",
   "execution_count": null,
   "metadata": {},
   "outputs": [],
   "source": [
    "# Aufgabe 1\n",
    "# geg:\n",
    "R_1 = 40 # Ohm\n",
    "R_2 = 110 # Ohm\n",
    "R_3 = 50 # Ohm\n",
    "U_2 = 4.4 # V\n",
    "# ges: U_1, U_3\n",
    "# Lösung:\n",
    "I = U_2/R_2\n",
    "U_1 = R_1 * I\n",
    "U_3 = R_3 * I\n",
    "#print(\"U = \", round(U, 4), \"V\")\n",
    "print(\"I = \", round(I, 4), \"A\")\n",
    "print(\"U_1 = \", round(U_1, 4), \"V\")\n",
    "print(\"U_3 = \", round(U_3, 4), \"V\")\n",
    "# I =  0.04 A\n",
    "# U_1 =  1.6 V\n",
    "# U_3 =  2.0 V"
   ]
  },
  {
   "cell_type": "code",
   "execution_count": null,
   "metadata": {},
   "outputs": [],
   "source": [
    "# Aufgabe 2\n",
    "# geg:\n",
    "R_1 = 8 # Ohm\n",
    "R_2 = 24 # Ohm\n",
    "U_ges = 12 # V\n",
    "I = 0.27 # A = 270 mA\n",
    "# ges: R_3, U_1, U_2, U_3\n",
    "# Lösung:\n",
    "R_ges = U_ges/I\n",
    "# R_ges = R_1 + R_2 + R_3\n",
    "R_3 = R_ges - R_1 - R_2\n",
    "U_1 = R_1 * I\n",
    "U_2 = R_2 * I\n",
    "U_3 = R_3 * I\n",
    "#print(\"U = \", round(U, 4), \"V\")\n",
    "print(\"R_ges = \", round(R_ges, 4), \"Ohm\")\n",
    "print(\"R_3 = \", round(R_3, 4), \"Ohm\")\n",
    "print(\"U_1 = \", round(U_1, 4), \"V\")\n",
    "print(\"U_2 = \", round(U_2, 4), \"V\")\n",
    "print(\"U_3 = \", round(U_3, 4), \"V\")\n",
    "# R_ges =  44.4444 Ohm\n",
    "# R_3 =  12.4444 Ohm\n",
    "# U_1 =  2.16 V\n",
    "# U_2 =  6.48 V\n",
    "# U_3 =  3.36 V"
   ]
  },
  {
   "cell_type": "code",
   "execution_count": null,
   "metadata": {},
   "outputs": [],
   "source": [
    "# Aufgabe 3\n",
    "# geg: \n",
    "R_1 = 22 # Ohm\n",
    "R_2 = 22 # Ohm\n",
    "R_3 = 22 # Ohm\n",
    "I_1 = 0.87 # A = 870 mA\n",
    "I_delta = 0.075 # A = 75 mA\n",
    "# ges: R_4, U_1, U_2, U_3, U_4\n",
    "# Lösung:\n",
    "I_2 = I_1 - I_delta\n",
    "R_ges1 = R_1 + R_2 + R_3\n",
    "U_ges = R_ges1 * I_1\n",
    "R_ges2 = U_ges/I_2\n",
    "# R_ges = R_1 + R_2 + R_3 + R_4\n",
    "R_4 = R_ges2 - R_1 - R_2 - R_3\n",
    "U_4 = R_4 * I_2\n",
    "U_1 = R_1 * I_2\n",
    "#print(\"U = \", round(U, 4), \"V\")\n",
    "print(\"I_2 = \", round(I_2, 4), \"A\")\n",
    "print(\"R_ges1 = \", round(R_ges1, 4), \"Ohm\")\n",
    "print(\"U_ges = \", round(U_ges, 4), \"V\")\n",
    "print(\"R_ges2 = \", round(R_ges2, 4), \"Ohm\")\n",
    "print(\"R_4 = \", round(R_4, 4), \"Ohm\")\n",
    "print(\"U_4 = \", round(U_4, 4), \"V\")\n",
    "print(\"U_1 = \", round(U_1, 4), \"V\")\n",
    "# I_2 =  0.795 A\n",
    "# R_ges1 =  66 Ohm\n",
    "# U_ges =  57.42 V\n",
    "# R_ges2 =  72.2264 Ohm\n",
    "# R_4 =  6.2264 Ohm\n",
    "# U_4 =  4.95 V\n",
    "# U_1 =  17.49 V\n",
    "# R_1 = R_2 = R_3 => U_1 = U_2 = U_3"
   ]
  },
  {
   "cell_type": "code",
   "execution_count": null,
   "metadata": {},
   "outputs": [],
   "source": [
    "# Aufgabe 4\n",
    "# geg:\n",
    "U_ges = 12 # V\n",
    "I_1 = 1.75 # A \n",
    "U_La = 8.6 # V\n",
    "# ges: R_ü, I_tat\n",
    "# Lösung:\n",
    "# U_ges = U_La + U_Rü\n",
    "U_Rü = U_ges - U_La\n",
    "R_La = U_ges/I_1\n",
    "I_tat = U_La/R_La\n",
    "R_ü = U_Rü/I_tat\n",
    "#print(\"U = \", round(U, 4), \"V\")\n",
    "print(\"U_Rü = \", round(U_Rü, 4), \"V\")\n",
    "print(\"R_La = \", round(R_La, 4), \"Ohm\")\n",
    "print(\"I_tat = \", round(I_tat, 4), \"A\")\n",
    "print(\"R_ü = \", round(R_ü, 4), \"Ohm\")\n",
    "# U_Rü =  3.4 V\n",
    "# R_La =  6.8571 Ohm\n",
    "# I_tat =  1.2542 A\n",
    "# R_ü =  2.711 Ohm"
   ]
  },
  {
   "cell_type": "code",
   "execution_count": null,
   "metadata": {},
   "outputs": [],
   "source": []
  }
 ],
 "metadata": {
  "interpreter": {
   "hash": "d88b4992e5b06b322ead3277a6c0c22aea73de159b15016e3d5eb1aecc84f355"
  },
  "kernelspec": {
   "display_name": "Python 3",
   "language": "python",
   "name": "python3"
  },
  "language_info": {
   "codemirror_mode": {
    "name": "ipython",
    "version": 3
   },
   "file_extension": ".py",
   "mimetype": "text/x-python",
   "name": "python",
   "nbconvert_exporter": "python",
   "pygments_lexer": "ipython3",
   "version": "3.8.8"
  }
 },
 "nbformat": 4,
 "nbformat_minor": 2
}
