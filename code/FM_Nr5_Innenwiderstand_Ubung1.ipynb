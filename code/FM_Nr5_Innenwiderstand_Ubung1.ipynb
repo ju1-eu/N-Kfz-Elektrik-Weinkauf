{
 "cells": [
  {
   "cell_type": "markdown",
   "metadata": {},
   "source": [
    "# FM Nr. 5 Übungsaufgaben\n",
    "\n",
    "## Innenwiderstand"
   ]
  },
  {
   "cell_type": "code",
   "execution_count": null,
   "metadata": {},
   "outputs": [],
   "source": [
    "import math as ma\n",
    "import numpy as np\n",
    "# round(Zahl, Stellen))# 4 Stellen nach Komma runden\n",
    "# print(\"l = \", round(l, 4), \"m\")\n",
    "# Potenz: 2**3 = 2^3\n",
    "# Wissenschaftliche Schreibweise\n",
    "#zahl_1 = float(0.0003648) # Ohm = 0.3648 mOhm = 0.0003648 Ohm = 3.648e-04 Ohm\n",
    "#print(np.format_float_scientific(zahl_1, precision = 4, exp_digits=2))\n",
    "#zahl_2 = float(2.6667e-03) # Ohm = 2.666666 mOhm = 0.002666666 Ohm = 2.6667e-03 Ohm\n",
    "#print(np.format_float_scientific(zahl_2, precision = 4, exp_digits=2))\n",
    "# Schleife: von 1 bis 10 \n",
    "#for i in range (1,11,1):\n",
    "#    print(i*i)\n",
    "# Terminal: jupyter notebook"
   ]
  },
  {
   "cell_type": "markdown",
   "metadata": {},
   "source": [
    "**Aufgabe 1**\n",
    "\n",
    "Ein 24 V Starter wird über zwei 12 V Batterien mit elektrischer Energie versorgt. Die Batteriezellen besitzen einen Innenwiderstand von $0,74~m\\Omega$/Zelle. Durch die 2,3 m lange Versorgungsleitung mit einer Fläche von $120~mm^2$ fließt ein Strom von 1250 A. \n",
    "\n",
    "Wie groß ist die Klemmenspannung am Starter?\n",
    "\n",
    "Skizze"
   ]
  },
  {
   "cell_type": "code",
   "execution_count": 2,
   "metadata": {},
   "outputs": [
    {
     "name": "stdout",
     "output_type": "stream",
     "text": [
      "U_i = 11.1 V\n",
      "U_v = 0.4265 V\n",
      "U_K_st = 12.4735 V\n"
     ]
    }
   ],
   "source": [
    "# Aufgabe 1\n",
    "# geg: \n",
    "R_i_zelle = 0.00074 # Ohm = 0.74 mOhm/Zelle\n",
    "U_Bat_1 = 12 # V\n",
    "U_Bat_2 = 12 # V\n",
    "z = 12 # Anzahl Batteriezellen\n",
    "I = 1250 # A\n",
    "l = 2.3 # m\n",
    "A = 120 # mm^2\n",
    "p = 0.0178 # Kupfer ohm x mm^2 / m \n",
    "# ges: U_K_st\n",
    "# Formel:\n",
    "# U_i = R_i_ges * I\n",
    "U_i = R_i_zelle * z * I\n",
    "U_v = I * p * l / A\n",
    "# U_ges = U_i_ges + U_v + U_K_st\n",
    "U_K_st = U_Bat_1 + U_Bat_2 - U_v - U_i\n",
    "# Ausgabe: print(\"U =\", round(U, 4), \"V\")\n",
    "print(\"U_i =\", round(U_i, 4), \"V\")\n",
    "print(\"U_v =\", round(U_v, 4), \"V\")\n",
    "print(\"U_K_st =\", round(U_K_st, 4), \"V\")\n",
    "# Lösung:\n",
    "# "
   ]
  },
  {
   "cell_type": "code",
   "execution_count": 12,
   "metadata": {},
   "outputs": [
    {
     "name": "stdout",
     "output_type": "stream",
     "text": [
      "R_l_1 = 0.0374 Ohm\n",
      "R_l_2 = 0.0267 Ohm\n",
      "R_La = 2.6182 Ohm\n",
      "R_ges = 2.7443 Ohm\n",
      "I_tat = 5.393 A\n",
      "U_K = 14.745 V\n"
     ]
    }
   ],
   "source": [
    "# Aufgabe 2\n",
    "# geg: Glühlampenaufschrift: 12 V / 4,5833 A\n",
    "U = 12 # V\n",
    "I = 4.5833 # A\n",
    "U_q = 14.8 # V\n",
    "R_i = 0.012 # Ohm = 12 mOhm\n",
    "A_1 = 2 # mm^2\n",
    "A_2 = 1 # mm^2\n",
    "l_1 = 4.2 # m\n",
    "l_2 = 1.5 # m\n",
    "R_u = 0.050 # Ohm = 50 mOhm\n",
    "p = 0.0178 # Kupfer ohm x mm^2 / m \n",
    "# ges: Mit welcher Klemmenspannung wird die Schaltung gespeist?\n",
    "# Formel:\n",
    "R_l_1 = p * l_1 / A_1\n",
    "R_l_2 = p * l_2 / A_2\n",
    "R_La = U / I\n",
    "R_ges = R_i + R_l_1 + R_u + R_l_2 + R_La\n",
    "I_tat = U_q / R_ges\n",
    "U_K = U_q - I * R_i\n",
    "# Ausgabe: print(\"U =\", round(U, 4), \"V\")\n",
    "print(\"R_l_1 =\", round(R_l_1, 4), \"Ohm\")\n",
    "print(\"R_l_2 =\", round(R_l_2, 4), \"Ohm\")\n",
    "print(\"R_La =\", round(R_La, 4), \"Ohm\")\n",
    "print(\"R_ges =\", round(R_ges, 4), \"Ohm\")\n",
    "print(\"I_tat =\", round(I_tat, 4), \"A\")\n",
    "print(\"U_K =\", round(U_K, 4), \"V\")\n",
    "# Lösung:\n",
    "# "
   ]
  },
  {
   "cell_type": "code",
   "execution_count": null,
   "metadata": {},
   "outputs": [],
   "source": []
  }
 ],
 "metadata": {
  "interpreter": {
   "hash": "d88b4992e5b06b322ead3277a6c0c22aea73de159b15016e3d5eb1aecc84f355"
  },
  "kernelspec": {
   "display_name": "Python 3",
   "language": "python",
   "name": "python3"
  },
  "language_info": {
   "codemirror_mode": {
    "name": "ipython",
    "version": 3
   },
   "file_extension": ".py",
   "mimetype": "text/x-python",
   "name": "python",
   "nbconvert_exporter": "python",
   "pygments_lexer": "ipython3",
   "version": "3.8.8"
  }
 },
 "nbformat": 4,
 "nbformat_minor": 2
}
