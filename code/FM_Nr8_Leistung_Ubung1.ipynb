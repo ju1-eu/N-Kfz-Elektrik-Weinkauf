{
 "cells": [
  {
   "cell_type": "markdown",
   "metadata": {},
   "source": [
    "# FM Nr. x Übungsaufgaben\n",
    "\n",
    "## x Übung 1"
   ]
  },
  {
   "cell_type": "code",
   "execution_count": 1,
   "metadata": {},
   "outputs": [],
   "source": [
    "import math as ma\n",
    "import numpy as np\n",
    "# round(Zahl, Stellen))# 4 Stellen nach Komma runden\n",
    "# print(\"l = \", round(l, 4), \"m\")\n",
    "# Potenz: 2**3 = 2^3\n",
    "# Wissenschaftliche Schreibweise\n",
    "# Exponentialschreibweise: \\num{2,67e-03} => 2.67 x 10^-3\n",
    "# Pfeil: \\curvearrowright  oder \\to\n",
    "# Mathemodus: https://katex.org/docs/supported.html\n",
    "#zahl_1 = float(0.0003648) # Ohm = 0.3648 mOhm = 0.0003648 Ohm = 3.648e-04 Ohm \n",
    "#print(np.format_float_scientific(zahl_1, precision = 4, exp_digits=2))\n",
    "#zahl_2 = float(2.6667e-03) # Ohm = 2.666666 mOhm = 0.002666666 Ohm = 2.6667e-03 Ohm\n",
    "#print(np.format_float_scientific(zahl_2, precision = 4, exp_digits=2))\n",
    "# Schleife: von 1 bis 10 \n",
    "#for i in range (1,11,1):\n",
    "#    print(i*i)\n",
    "# Terminal: jupyter notebook"
   ]
  },
  {
   "cell_type": "code",
   "execution_count": 7,
   "metadata": {},
   "outputs": [
    {
     "name": "stdout",
     "output_type": "stream",
     "text": [
      "R_La = 2.6182 Ohm\n",
      "R_ges = 2.6682 Ohm\n",
      "I_tat = 5.5468 A\n",
      "P_La_tat = 80.555 W\n"
     ]
    }
   ],
   "source": [
    "# Aufgabe 1\n",
    "# geg:\n",
    "U_ges = 14.8 # V\n",
    "R_u = 0.05 # 50 mOhm\n",
    "P_La = 55 # W\n",
    "U = 12 # V\n",
    "# ges: P_La_tat\n",
    "# Formel:\n",
    "# P_La = U x I -> P_La = U^2/R_La ->\n",
    "R_La = U**2/P_La\n",
    "R_ges = R_u + R_La\n",
    "I_tat = U_ges/R_ges\n",
    "# P_La_tat = U_k x I_tat ->\n",
    "P_La_tat = R_La * I_tat**2\n",
    "# Ausgabe: print(\"U =\", round(U, 4), \"V\")\n",
    "print(\"R_La =\", round(R_La, 4), \"Ohm\")\n",
    "print(\"R_ges =\", round(R_ges, 4), \"Ohm\")\n",
    "print(\"I_tat =\", round(I_tat, 4), \"A\")\n",
    "print(\"P_La_tat =\", round(P_La_tat, 4), \"W\")\n",
    "# Lösung:\n",
    "# "
   ]
  },
  {
   "cell_type": "code",
   "execution_count": 10,
   "metadata": {},
   "outputs": [
    {
     "name": "stdout",
     "output_type": "stream",
     "text": [
      "I = 3.1623 A\n"
     ]
    }
   ],
   "source": [
    "# Aufgabe 2\n",
    "# geg:\n",
    "R = 50 # Ohm\n",
    "P = 500 # W\n",
    "# ges: I\n",
    "# Formel:\n",
    "# P = U x I -> P = R x I^2 -> \n",
    "I = ma.sqrt(P/R)\n",
    "# Ausgabe: print(\"U =\", round(U, 4), \"V\")\n",
    "print(\"I =\", round(I, 4), \"A\")\n",
    "# Lösung:\n",
    "# "
   ]
  },
  {
   "cell_type": "code",
   "execution_count": 12,
   "metadata": {},
   "outputs": [
    {
     "name": "stdout",
     "output_type": "stream",
     "text": [
      "R_La = 6.8571 Ohm\n",
      "I_tat = 1.2542 A\n",
      "R_u = 2.711 Ohm\n",
      "P_R_u = 4.2642 W\n",
      "P_La_tat = 10.7858 W\n"
     ]
    }
   ],
   "source": [
    "# Aufgabe 3\n",
    "# geg:\n",
    "U_ges = 12 # V\n",
    "P_La = 21 # W\n",
    "U_k = 8.6 # V\n",
    "# ges: R_u, P_R_u, P_La_tat\n",
    "# Formel:\n",
    "# P_La = U x I -> P_La = U^2/R_La ->\n",
    "R_La = U_ges**2/P_La\n",
    "I_tat = U_k/R_La\n",
    "# R_u = U_R_u/I_tat -> \n",
    "R_u = (U_ges - U_k)/I_tat\n",
    "# P_R_u = U_R_u x I_tat ->\n",
    "P_R_u = R_u * I_tat**2\n",
    "P_La_tat = U_k * I_tat\n",
    "# Ausgabe: print(\"U =\", round(U, 4), \"V\")\n",
    "print(\"R_La =\", round(R_La, 4), \"Ohm\")\n",
    "print(\"I_tat =\", round(I_tat, 4), \"A\")\n",
    "print(\"R_u =\", round(R_u, 4), \"Ohm\")\n",
    "print(\"P_R_u =\", round(P_R_u, 4), \"W\")\n",
    "print(\"P_La_tat =\", round(P_La_tat, 4), \"W\")\n",
    "# Lösung:\n",
    "# "
   ]
  },
  {
   "cell_type": "code",
   "execution_count": 22,
   "metadata": {},
   "outputs": [
    {
     "name": "stdout",
     "output_type": "stream",
     "text": [
      "12V/21W R_1 = 6.8571 Ohm\n",
      "24V/21W R_2 = 27.4286 Ohm\n",
      "Faktor = 4 - fache Widerstand\n"
     ]
    }
   ],
   "source": [
    "# Aufgabe 4\n",
    "#geg:\n",
    "P = 21 # W\n",
    "U_1 = 12 # V\n",
    "U_2 = 24 # V\n",
    "# Formel:\n",
    "# P = U x I -> P = U^2/R ->\n",
    "R_1 = U_1**2/P\n",
    "R_2 = U_2**2/P\n",
    "Faktor = R_2/R_1\n",
    "# Ausgabe: print(\"U =\", round(U, 4), \"V\")\n",
    "print(\"12V/21W R_1 =\", round(R_1, 4), \"Ohm\")\n",
    "print(\"24V/21W R_2 =\", round(R_2, 4), \"Ohm\")\n",
    "print(\"Faktor =\", round(Faktor), \"- fache Widerstand\")\n",
    "# Lösung:\n",
    "# "
   ]
  },
  {
   "cell_type": "code",
   "execution_count": null,
   "metadata": {},
   "outputs": [],
   "source": []
  }
 ],
 "metadata": {
  "interpreter": {
   "hash": "d88b4992e5b06b322ead3277a6c0c22aea73de159b15016e3d5eb1aecc84f355"
  },
  "kernelspec": {
   "display_name": "Python 3",
   "language": "python",
   "name": "python3"
  },
  "language_info": {
   "codemirror_mode": {
    "name": "ipython",
    "version": 3
   },
   "file_extension": ".py",
   "mimetype": "text/x-python",
   "name": "python",
   "nbconvert_exporter": "python",
   "pygments_lexer": "ipython3",
   "version": "3.8.8"
  }
 },
 "nbformat": 4,
 "nbformat_minor": 2
}
