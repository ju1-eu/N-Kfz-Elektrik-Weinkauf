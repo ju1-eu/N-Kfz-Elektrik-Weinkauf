{
 "cells": [
  {
   "cell_type": "markdown",
   "metadata": {},
   "source": [
    "# FT Nr. 10 Übungsaufgaben\n",
    "\n",
    "## Übungsaufgaben Beleuchtungssystem - Scheinwerferhöhenverstellung"
   ]
  },
  {
   "cell_type": "code",
   "execution_count": 1,
   "metadata": {},
   "outputs": [],
   "source": [
    "import math as ma\n",
    "import numpy as np\n",
    "# round(Zahl, Stellen))# 4 Stellen nach Komma runden\n",
    "# print(\"l = \", round(l, 4), \"m\")\n",
    "# Potenz: 2**3 = 2^3\n",
    "# Wissenschaftliche Schreibweise\n",
    "# Exponentialschreibweise: \\num{2,67e-03} => 2.67 x 10^-3\n",
    "# Pfeil: \\curvearrowright  oder \\to\n",
    "# Mathemodus: https://katex.org/docs/supported.html\n",
    "#zahl_1 = float(0.0003648) # Ohm = 0.3648 mOhm = 0.0003648 Ohm = 3.648e-04 Ohm \n",
    "#print(np.format_float_scientific(zahl_1, precision = 4, exp_digits=2))\n",
    "#zahl_2 = float(2.6667e-03) # Ohm = 2.666666 mOhm = 0.002666666 Ohm = 2.6667e-03 Ohm\n",
    "#print(np.format_float_scientific(zahl_2, precision = 4, exp_digits=2))\n",
    "# Schleife: von 1 bis 10 \n",
    "#for i in range (1,11,1):\n",
    "#    print(i*i)\n",
    "# Terminal: jupyter notebook"
   ]
  },
  {
   "cell_type": "code",
   "execution_count": 2,
   "metadata": {},
   "outputs": [
    {
     "name": "stdout",
     "output_type": "stream",
     "text": [
      "I = 4.5833 A\n",
      "R = 2.6182 Ohm\n",
      "I_tat = 4.2205 A\n",
      "P_M_31_tat = 46.6364 W\n"
     ]
    }
   ],
   "source": [
    "# Aufgabe 10\n",
    "# geg:\n",
    "P_M_31 = 55 # W/12V\n",
    "U = 12 # V\n",
    "U_ges = 14.3 # V\n",
    "U_v = 3.25 # V\n",
    "# ges: P_M_31_tat\n",
    "# Formel:\n",
    "# P_M_31 = U * I\n",
    "I = P_M_31 / U\n",
    "R = U / I\n",
    "# I_tat = U_k / R\n",
    "I_tat = (U_ges - U_v) / R\n",
    "# P_M_31_tat = U_k * I_tat\n",
    "P_M_31_tat = (U_ges - U_v) * I_tat\n",
    "# Ausgabe: print(\"U =\", round(U, 4), \"V\")\n",
    "print(\"I =\", round(I, 4), \"A\")\n",
    "print(\"R =\", round(R, 4), \"Ohm\")\n",
    "print(\"I_tat =\", round(I_tat, 4), \"A\")\n",
    "print(\"P_M_31_tat =\", round(P_M_31_tat, 4), \"W\")\n",
    "# Lösung:"
   ]
  },
  {
   "cell_type": "code",
   "execution_count": 11,
   "metadata": {},
   "outputs": [
    {
     "name": "stdout",
     "output_type": "stream",
     "text": [
      "I_12 = 1.75 A\n",
      "R_12 = 6.8571 Ohm\n",
      "I_24 = 0.875 A\n",
      "R_24 = 27.4286 Ohm\n",
      "Faktor 12V / 24V = 4.0 -fache Leiterlaenge\n"
     ]
    }
   ],
   "source": [
    "# Aufgabe 12\n",
    "# geg:\n",
    "P_12 = 21 # W/12V\n",
    "P_24 = 21 # W/24V\n",
    "U_12 = 12 # V\n",
    "U_24 = 24 # V\n",
    "# ges: R_24, R_12\n",
    "# Formel:\n",
    "# P_12 = U * I\n",
    "I_12 = P_12 / U_12\n",
    "R_12 = U_12 / I_12\n",
    "# P_24 = U * I\n",
    "I_24 = P_24 / U_24\n",
    "R_24 = U_24 / I_24\n",
    "Faktor = R_24 / R_12\n",
    "# Ausgabe: print(\"U =\", round(U, 4), \"V\")\n",
    "print(\"I_12 =\", round(I_12, 4), \"A\")\n",
    "print(\"R_12 =\", round(R_12, 4), \"Ohm\")\n",
    "print(\"I_24 =\", round(I_24, 4), \"A\")\n",
    "print(\"R_24 =\", round(R_24, 4), \"Ohm\")\n",
    "print(\"Faktor 12V / 24V =\", round(Faktor, 4),\"-fache Leiterlaenge\")\n",
    "# Lösung:\n",
    "# "
   ]
  },
  {
   "cell_type": "code",
   "execution_count": null,
   "metadata": {},
   "outputs": [],
   "source": []
  }
 ],
 "metadata": {
  "interpreter": {
   "hash": "d88b4992e5b06b322ead3277a6c0c22aea73de159b15016e3d5eb1aecc84f355"
  },
  "kernelspec": {
   "display_name": "Python 3",
   "language": "python",
   "name": "python3"
  },
  "language_info": {
   "codemirror_mode": {
    "name": "ipython",
    "version": 3
   },
   "file_extension": ".py",
   "mimetype": "text/x-python",
   "name": "python",
   "nbconvert_exporter": "python",
   "pygments_lexer": "ipython3",
   "version": "3.8.8"
  }
 },
 "nbformat": 4,
 "nbformat_minor": 2
}
