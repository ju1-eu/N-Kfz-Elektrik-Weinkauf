{
 "cells": [
  {
   "cell_type": "markdown",
   "metadata": {},
   "source": [
    "# FM Nr. 6 Übungsaufgaben\n",
    "\n",
    "## Parallelschaltung"
   ]
  },
  {
   "cell_type": "code",
   "execution_count": 1,
   "metadata": {},
   "outputs": [],
   "source": [
    "import math as ma\n",
    "import numpy as np\n",
    "# round(Zahl, Stellen))# 4 Stellen nach Komma runden\n",
    "# print(\"l = \", round(l, 4), \"m\")\n",
    "# Potenz: 2**3 = 2^3\n",
    "# Wissenschaftliche Schreibweise\n",
    "#zahl_1 = float(0.0003648) # Ohm = 0.3648 mOhm = 0.0003648 Ohm = 3.648e-04 Ohm\n",
    "#print(np.format_float_scientific(zahl_1, precision = 4, exp_digits=2))\n",
    "#zahl_2 = float(2.6667e-03) # Ohm = 2.666666 mOhm = 0.002666666 Ohm = 2.6667e-03 Ohm\n",
    "#print(np.format_float_scientific(zahl_2, precision = 4, exp_digits=2))\n",
    "# Schleife: von 1 bis 10 \n",
    "#for i in range (1,11,1):\n",
    "#    print(i*i)\n",
    "# Terminal: jupyter notebook"
   ]
  },
  {
   "cell_type": "code",
   "execution_count": 5,
   "metadata": {},
   "outputs": [
    {
     "name": "stdout",
     "output_type": "stream",
     "text": [
      "R_3 = 20.5714 Ohm\n"
     ]
    }
   ],
   "source": [
    "# Aufgabe 1\n",
    "# geg:\n",
    "R_1 = 72 # Ohm\n",
    "R_2 = 48 # Ohm\n",
    "R_ges = 12 # Ohm\n",
    "# ges: R_3\n",
    "# Formel:\n",
    "# R_ges = 1 / (1/R_1 + 1/R_2 + 1/R_3)\n",
    "R_3 = 1 / (1/R_ges - 1/R_1 - 1/R_2)\n",
    "# Ausgabe: print(\"U =\", round(U, 4), \"V\")\n",
    "print(\"R_3 =\", round(R_3, 4), \"Ohm\")\n",
    "# Lösung:\n",
    "# "
   ]
  },
  {
   "cell_type": "code",
   "execution_count": 7,
   "metadata": {},
   "outputs": [
    {
     "name": "stdout",
     "output_type": "stream",
     "text": [
      "U = 13.5 V\n",
      "R_ges = 16.875 Ohm\n",
      "I_2 = 0.3 A\n",
      "I_3 = 0.05 A\n",
      "R_3 = 270.0 Ohm\n"
     ]
    }
   ],
   "source": [
    "# Aufgabe 2\n",
    "# geg: ||\n",
    "R_1 = 30 # Ohm\n",
    "R_2 = 45 # Ohm\n",
    "I_1 = 0.45 # A\n",
    "I_ges = 0.8 # A\n",
    "# ges: U, R_3, R_ges\n",
    "# Formel:\n",
    "U = R_1 * I_1\n",
    "R_ges = U/I_ges\n",
    "I_2 = U/R_2\n",
    "# I_ges = I_1 + I_2 + I_3\n",
    "I_3 = I_ges - I_1 - I_2\n",
    "R_3 = U / I_3\n",
    "# Ausgabe: print(\"U =\", round(U, 4), \"V\")\n",
    "print(\"U =\", round(U, 4), \"V\")\n",
    "print(\"R_ges =\", round(R_ges, 4), \"Ohm\")\n",
    "print(\"I_2 =\", round(I_2, 4), \"A\")\n",
    "print(\"I_3 =\", round(I_3, 4), \"A\")\n",
    "print(\"R_3 =\", round(R_3, 4), \"Ohm\")\n",
    "# Lösung:\n",
    "# "
   ]
  },
  {
   "cell_type": "code",
   "execution_count": 11,
   "metadata": {},
   "outputs": [
    {
     "name": "stdout",
     "output_type": "stream",
     "text": [
      "n = 4.0 \n"
     ]
    }
   ],
   "source": [
    "# Aufgabe 3\n",
    "# geg:\n",
    "R_Teil = 66 # Ohm\n",
    "R_ges = 16.5 # Ohm\n",
    "# ges: n (Anzahl)\n",
    "# Formel:\n",
    "# R_ges = R_Teil/n\n",
    "n = R_Teil/R_ges\n",
    "# Ausgabe: print(\"U =\", round(U, 4), \"V\")\n",
    "print(\"n =\", round(n, 4), \"\")\n",
    "# Lösung:\n",
    "# "
   ]
  },
  {
   "cell_type": "code",
   "execution_count": 16,
   "metadata": {},
   "outputs": [
    {
     "name": "stdout",
     "output_type": "stream",
     "text": [
      "U = 14.5998 V\n",
      "R_1 = 17.1763 Ohm\n",
      "R_3 = 7.8918 Ohm\n",
      "R_4 = 5.4275 Ohm\n",
      "I_ges = 9.62 A\n",
      "Variante 1: R_ges_1 = 1.5177 Ohm\n",
      "Variante 2: R_ges_2 = 1.5177 Ohm\n"
     ]
    }
   ],
   "source": [
    "# Aufgabe 4\n",
    "# geg: ||\n",
    "R_2 = 3.4515 # Ohm\n",
    "I_1 = 0.85 # A\n",
    "I_2 = 4.23 # A\n",
    "I_3 = 1.85 # A\n",
    "I_4 = 2.69 # A\n",
    "# ges: R_ges, R_1, R_4, R_3\n",
    "# Formel:\n",
    "U = R_2 * I_2\n",
    "R_1 = U / I_1\n",
    "R_3 = U / I_3\n",
    "R_4 = U / I_4\n",
    "I_ges = I_1 + I_2 + I_3 + I_4\n",
    "R_ges_1 = U/I_ges # (Variante 1)\n",
    "R_ges_2 = 1 / (1/R_1 + 1/R_2 + 1/R_3 + 1/R_4) # (Variante 2)\n",
    "# Ausgabe: print(\"U =\", round(U, 4), \"V\")\n",
    "print(\"U =\", round(U, 4), \"V\")\n",
    "print(\"R_1 =\", round(R_1, 4), \"Ohm\")\n",
    "print(\"R_3 =\", round(R_3, 4), \"Ohm\")\n",
    "print(\"R_4 =\", round(R_4, 4), \"Ohm\")\n",
    "print(\"I_ges =\", round(I_ges, 4), \"A\")\n",
    "print(\"Variante 1: R_ges_1 =\", round(R_ges_1, 4), \"Ohm\")\n",
    "print(\"Variante 2: R_ges_2 =\", round(R_ges_2, 4), \"Ohm\")\n",
    "# Lösung:\n",
    "# "
   ]
  },
  {
   "cell_type": "code",
   "execution_count": 22,
   "metadata": {},
   "outputs": [
    {
     "name": "stdout",
     "output_type": "stream",
     "text": [
      "I_K_k = 14.8387 A\n",
      "I_ges_k = 59.3548 A\n",
      "I_K_w = 9.6503 A\n",
      "I_ges_w = 38.6014 A\n",
      "P_K_k = 204.7742 W\n",
      "P_K_w = 133.1748 W\n"
     ]
    }
   ],
   "source": [
    "# Aufgabe 5\n",
    "# geg: || Glühkerze\n",
    "z = 4 # Zylinderzahl\n",
    "# PTC Regelwiderstand, x = Temp. steigt, y = Widerstand steigt\n",
    "R_R_k = 0.38 # Ohm \n",
    "R_R_w = 0.88 # Ohm \n",
    "R_H = 0.55 # Ohm Heizwendel\n",
    "U_K = 13.8 # V\n",
    "# ges: I_ges_k, I_ges_w, P_K_k, P_K_w\n",
    "# Formel:\n",
    "# I_K_k = U_K/R_K_k\n",
    "I_K_k = U_K/(R_R_k + R_H)\n",
    "I_ges_k = I_K_k * z\n",
    "# I_K_k = U_K/R_K_w\n",
    "I_K_w = U_K/(R_R_w + R_H)\n",
    "I_ges_w = I_K_w * z\n",
    "P_K_k = U_K * I_K_k\n",
    "P_K_w = U_K * I_K_w\n",
    "# Ausgabe: print(\"U =\", round(U, 4), \"V\")\n",
    "print(\"I_K_k =\", round(I_K_k, 4), \"A\")\n",
    "print(\"I_ges_k =\", round(I_ges_k, 4), \"A\")\n",
    "print(\"I_K_w =\", round(I_K_w, 4), \"A\")\n",
    "print(\"I_ges_w =\", round(I_ges_w, 4), \"A\")\n",
    "print(\"P_K_k =\", round(P_K_k, 4), \"W\")\n",
    "print(\"P_K_w =\", round(P_K_w, 4), \"W\")\n",
    "# Lösung:\n",
    "# "
   ]
  },
  {
   "cell_type": "code",
   "execution_count": null,
   "metadata": {},
   "outputs": [],
   "source": []
  }
 ],
 "metadata": {
  "interpreter": {
   "hash": "d88b4992e5b06b322ead3277a6c0c22aea73de159b15016e3d5eb1aecc84f355"
  },
  "kernelspec": {
   "display_name": "Python 3",
   "language": "python",
   "name": "python3"
  },
  "language_info": {
   "codemirror_mode": {
    "name": "ipython",
    "version": 3
   },
   "file_extension": ".py",
   "mimetype": "text/x-python",
   "name": "python",
   "nbconvert_exporter": "python",
   "pygments_lexer": "ipython3",
   "version": "3.8.8"
  }
 },
 "nbformat": 4,
 "nbformat_minor": 2
}
