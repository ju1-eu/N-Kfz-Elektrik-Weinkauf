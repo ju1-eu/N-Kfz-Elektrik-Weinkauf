{
 "cells": [
  {
   "cell_type": "markdown",
   "metadata": {},
   "source": [
    "# FM Nr. 4 Übungsaufgaben\n",
    "\n",
    "## Spannungsabfall\n",
    "\n",
    "Tabellenbuch S. 280 Nennquerschnitt"
   ]
  },
  {
   "cell_type": "code",
   "execution_count": null,
   "metadata": {},
   "outputs": [],
   "source": [
    "import math as ma\n",
    "import numpy as np\n",
    "# round(Zahl, Stellen))# 4 Stellen nach Komma runden\n",
    "# print(\"l = \", round(l, 4), \"m\")\n",
    "# Potenz: 2**3 = 2^3\n",
    "# Wissenschaftliche Schreibweise\n",
    "#zahl_1 = float(0.0003648) # Ohm = 0.3648 mOhm = 0.0003648 Ohm = 3.648e-04 Ohm\n",
    "#print(np.format_float_scientific(zahl_1, precision = 4, exp_digits=2))\n",
    "#zahl_2 = float(2.6667e-03) # Ohm = 2.666666 mOhm = 0.002666666 Ohm = 2.6667e-03 Ohm\n",
    "#print(np.format_float_scientific(zahl_2, precision = 4, exp_digits=2))\n",
    "# Schleife: von 1 bis 10 \n",
    "#for i in range (1,11,1):\n",
    "#    print(i*i)\n",
    "# Terminal: jupyter notebook"
   ]
  },
  {
   "cell_type": "code",
   "execution_count": 3,
   "metadata": {},
   "outputs": [
    {
     "name": "stdout",
     "output_type": "stream",
     "text": [
      "l = 1.0 m\n"
     ]
    }
   ],
   "source": [
    "# Aufgabe 1\n",
    "# geg:\n",
    "A = 0.6 # mm^2\n",
    "p = 0.3 # Ohm x mm^2/m\n",
    "I = 8 # A\n",
    "U_v = 4 # V\n",
    "# ges: l\n",
    "# Formel:\n",
    "# U_v = p * l * I/A =>\n",
    "l = (U_v * A)/(p * I)\n",
    "# Ausgabe: print(\"U =\", round(U, 4), \"V\")\n",
    "print(\"l =\", round(l, 4), \"m\")\n",
    "# Lösung:\n",
    "# l = 1.0 m"
   ]
  },
  {
   "cell_type": "code",
   "execution_count": 4,
   "metadata": {},
   "outputs": [
    {
     "name": "stdout",
     "output_type": "stream",
     "text": [
      "R_st = 0.064 Ohm\n",
      "A_mind = 26.7 mm^2\n"
     ]
    }
   ],
   "source": [
    "# Aufgabe 2\n",
    "# geg:\n",
    "l = 4 # m (Kupfer)\n",
    "U_ges = 10 # V\n",
    "U_k = 9.6 # V\n",
    "I = 150 # A\n",
    "p = 0.0178 # Ohm x mm^2/m\n",
    "# ges: A_mind, R_st, A\n",
    "# Formel:\n",
    "R_st = U_k/I\n",
    "# U_v = U_ges - U_k => A_mind = p * l * I/U_v =>\n",
    "A_mind = p * l * I/(U_ges - U_k)\n",
    "# Ausgabe: print(\"U =\", round(U, 4), \"V\")\n",
    "print(\"R_st =\", round(R_st, 4), \"Ohm\")\n",
    "print(\"A_mind =\", round(A_mind, 4), \"mm^2\")\n",
    "# Lösung:\n",
    "# R_st = 0.064 Ohm\n",
    "# A_mind = 26.7 mm^2 => A_Nenn = 35 mm^2 (Nennquerschnitt)"
   ]
  },
  {
   "cell_type": "code",
   "execution_count": 6,
   "metadata": {},
   "outputs": [
    {
     "name": "stdout",
     "output_type": "stream",
     "text": [
      "I = 2.1067 A\n"
     ]
    }
   ],
   "source": [
    "# Aufgabe 3\n",
    "# geg:\n",
    "A = 0.75 # mm^2\n",
    "l = 6 # m (Kupfer)\n",
    "U_v = 0.3 # V = 300 mV\n",
    "p = 0.0178 # Ohm x mm^2/m\n",
    "# ges: I\n",
    "# Formel:\n",
    "# U_v = p * l * I/A =>\n",
    "I = U_v * A/(p * l)\n",
    "# Ausgabe: print(\"U =\", round(U, 4), \"V\")\n",
    "print(\"I =\", round(I, 4), \"A\")\n",
    "# Lösung:\n",
    "# I = 2.1067 A"
   ]
  },
  {
   "cell_type": "code",
   "execution_count": 13,
   "metadata": {},
   "outputs": [
    {
     "name": "stdout",
     "output_type": "stream",
     "text": [
      "R_st = 0.0756 Ohm\n",
      "A_mind = 20.826 mm^2\n"
     ]
    }
   ],
   "source": [
    "# Aufgabe 4\n",
    "# geg:\n",
    "l = 4.5 # m (Kupfer)\n",
    "l_1 = 2.25 # m (Plusleitung)\n",
    "l_2 = 2.25 # m (Minusleitung)\n",
    "U_v = 0.3 # V\n",
    "U_B = 12.4 # V\n",
    "p = 0.0178 # Ohm x mm^2/m\n",
    "I = 156 # A\n",
    "# ges: A_mind, A_Nenn, R_st\n",
    "# Formel:\n",
    "# U_k = U_B - U_v1 - U_v2 => R_st = U_k/I =>\n",
    "R_st = (U_B - U_v - U_v)/I\n",
    "# U_v = p * l * I/A =>\n",
    "A_mind = p * l_1 * I/U_v\n",
    "# Ausgabe: print(\"U =\", round(U, 4), \"V\")\n",
    "print(\"R_st =\", round(R_st, 4), \"Ohm\")\n",
    "print(\"A_mind =\", round(A_mind, 4), \"mm^2\")\n",
    "# Lösung:\n",
    "# R_st = 0.0756 Ohm\n",
    "# A_mind = 20.826 mm^2 => A_Nenn = 25 mm^2 (Nennquerschnitt)"
   ]
  },
  {
   "cell_type": "code",
   "execution_count": 16,
   "metadata": {},
   "outputs": [
    {
     "name": "stdout",
     "output_type": "stream",
     "text": [
      "U_v = 0.3 V\n",
      "A_mind = 4.895 mm^2\n"
     ]
    }
   ],
   "source": [
    "# Aufgabe 5\n",
    "# geg:\n",
    "l = 1.65 # m (Kupfer)\n",
    "U_v_proz = 2.5 # % von 12 V\n",
    "U_ges = 12 # V \n",
    "p = 0.0178 # Ohm x mm^2/m\n",
    "I = 50 # A\n",
    "# ges: A_Nenn\n",
    "# Formel:\n",
    "# U_v_proz = U_v * 100/U_ges =>\n",
    "U_v = U_v_proz * U_ges/100\n",
    "# U_v = p * l * I/A =>\n",
    "A_mind = p * l * I/U_v\n",
    "# Ausgabe: print(\"U =\", round(U, 4), \"V\")\n",
    "print(\"U_v =\", round(U_v, 4), \"V\")\n",
    "print(\"A_mind =\", round(A_mind, 4), \"mm^2\")\n",
    "# Lösung:\n",
    "# U_v = 0.3 V\n",
    "# A_mind = 4.895 mm^2 => A_Nenn = 6 mm^2 (Nennquerschnitt)"
   ]
  },
  {
   "cell_type": "code",
   "execution_count": 18,
   "metadata": {},
   "outputs": [
    {
     "name": "stdout",
     "output_type": "stream",
     "text": [
      "l = 4.68 m\n"
     ]
    }
   ],
   "source": [
    "# Aufgabe 6\n",
    "# geg:\n",
    "U_v = 0.10385232 # V = 103.85232 mV\n",
    "p = 0.0178 # Ohm x mm^2/m\n",
    "I = 1.87 # A\n",
    "A = 1.5 # mm^2\n",
    "# ges: \n",
    "# Formel:\n",
    "# U_v = p * l * I/A =>\n",
    "l = (U_v * A)/(p * I)\n",
    "# Ausgabe: print(\"U =\", round(U, 4), \"V\")\n",
    "print(\"l =\", round(l, 4), \"m\")\n",
    "# Lösung:\n",
    "# l = 4.68 m"
   ]
  },
  {
   "cell_type": "code",
   "execution_count": null,
   "metadata": {},
   "outputs": [],
   "source": []
  }
 ],
 "metadata": {
  "interpreter": {
   "hash": "d88b4992e5b06b322ead3277a6c0c22aea73de159b15016e3d5eb1aecc84f355"
  },
  "kernelspec": {
   "display_name": "Python 3",
   "language": "python",
   "name": "python3"
  },
  "language_info": {
   "codemirror_mode": {
    "name": "ipython",
    "version": 3
   },
   "file_extension": ".py",
   "mimetype": "text/x-python",
   "name": "python",
   "nbconvert_exporter": "python",
   "pygments_lexer": "ipython3",
   "version": "3.8.8"
  }
 },
 "nbformat": 4,
 "nbformat_minor": 2
}
